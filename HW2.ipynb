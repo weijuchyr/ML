{
 "cells": [
  {
   "cell_type": "code",
   "execution_count": 1,
   "id": "82dd20d4",
   "metadata": {},
   "outputs": [],
   "source": [
    "import numpy as np\n",
    "import pandas as pd\n",
    "import os"
   ]
  },
  {
   "cell_type": "code",
   "execution_count": 2,
   "id": "8607b03a",
   "metadata": {},
   "outputs": [],
   "source": [
    "from sklearn.model_selection import train_test_split\n",
    "import statsmodels.formula.api as smf"
   ]
  },
  {
   "cell_type": "code",
   "execution_count": 3,
   "id": "ec32c230",
   "metadata": {},
   "outputs": [
    {
     "data": {
      "text/plain": [
       "((1098, 16), (2560, 16))"
      ]
     },
     "execution_count": 3,
     "metadata": {},
     "output_type": "execute_result"
    }
   ],
   "source": [
    "framingham_test = pd.read_csv(\"framingham_test.csv\")\n",
    "framingham_train = pd.read_csv(\"framingham_train.csv\")\n",
    "framingham_test.shape, framingham_train.shape"
   ]
  },
  {
   "cell_type": "code",
   "execution_count": 4,
   "id": "d319de94",
   "metadata": {},
   "outputs": [
    {
     "name": "stdout",
     "output_type": "stream",
     "text": [
      "Optimization terminated successfully.\n",
      "         Current function value: 0.379082\n",
      "         Iterations 7\n",
      "                           Logit Regression Results                           \n",
      "==============================================================================\n",
      "Dep. Variable:             TenYearCHD   No. Observations:                 2560\n",
      "Model:                          Logit   Df Residuals:                     2542\n",
      "Method:                           MLE   Df Model:                           17\n",
      "Date:                Tue, 04 Apr 2023   Pseudo R-squ.:                  0.1145\n",
      "Time:                        23:25:17   Log-Likelihood:                -970.45\n",
      "converged:                       True   LL-Null:                       -1095.9\n",
      "Covariance Type:            nonrobust   LLR p-value:                 1.348e-43\n",
      "===============================================================================================================\n",
      "                                                  coef    std err          z      P>|z|      [0.025      0.975]\n",
      "---------------------------------------------------------------------------------------------------------------\n",
      "Intercept                                      -8.1905      0.840     -9.745      0.000      -9.838      -6.543\n",
      "education[T.High school/GED]                   -0.2268      0.218     -1.038      0.299      -0.655       0.201\n",
      "education[T.Some college/vocational school]    -0.0846      0.237     -0.357      0.721      -0.549       0.380\n",
      "education[T.Some high school]                   0.1564      0.199      0.787      0.431      -0.233       0.546\n",
      "male                                            0.4944      0.131      3.781      0.000       0.238       0.751\n",
      "age                                             0.0604      0.008      7.491      0.000       0.045       0.076\n",
      "currentSmoker                                   0.1114      0.190      0.586      0.558      -0.261       0.484\n",
      "cigsPerDay                                      0.0155      0.008      1.978      0.048       0.000       0.031\n",
      "BPMeds                                          0.2445      0.275      0.889      0.374      -0.294       0.783\n",
      "prevalentStroke                                 0.5335      0.561      0.950      0.342      -0.567       1.634\n",
      "prevalentHyp                                    0.2142      0.164      1.306      0.192      -0.107       0.536\n",
      "diabetes                                       -0.1670      0.366     -0.456      0.648      -0.885       0.551\n",
      "totChol                                         0.0019      0.001      1.399      0.162      -0.001       0.005\n",
      "sysBP                                           0.0139      0.004      3.187      0.001       0.005       0.023\n",
      "diaBP                                          -0.0034      0.008     -0.449      0.653      -0.018       0.011\n",
      "BMI                                             0.0122      0.015      0.819      0.413      -0.017       0.042\n",
      "heartRate                                      -0.0035      0.005     -0.709      0.478      -0.013       0.006\n",
      "glucose                                         0.0082      0.003      2.966      0.003       0.003       0.014\n",
      "===============================================================================================================\n"
     ]
    }
   ],
   "source": [
    "logreg = smf.logit(formula = 'TenYearCHD ~ male + age + education + currentSmoker + cigsPerDay + BPMeds + prevalentStroke + prevalentHyp + diabetes + totChol + sysBP + diaBP + BMI + heartRate + glucose',\n",
    "                       data = framingham_train).fit()\n",
    "print(logreg.summary())"
   ]
  },
  {
   "cell_type": "code",
   "execution_count": 5,
   "id": "dda8716d",
   "metadata": {},
   "outputs": [
    {
     "name": "stdout",
     "output_type": "stream",
     "text": [
      "Confusion Matrix : \n",
      " [[488 445]\n",
      " [ 32 133]]\n",
      "Accuracy is: 0.5656\n",
      "TPR is: 0.8061\n",
      "FPR is: 0.4770\n"
     ]
    }
   ],
   "source": [
    "# 1. Predicting the probability of default\n",
    "y_prob = logreg.predict(framingham_test)\n",
    "\n",
    "# 2. Determining the optimal threshold of the default probability\n",
    "\n",
    "# 3. Predicting the label\n",
    "y_pred = pd.Series([1 if x > 700/6375 else 0 for x in y_prob], index=y_prob.index)\n",
    "\n",
    "from sklearn.metrics import confusion_matrix\n",
    "y_test = framingham_test['TenYearCHD']\n",
    "\n",
    "cm = confusion_matrix(y_test, y_pred)\n",
    "print (\"Confusion Matrix : \\n\", cm) \n",
    "acc = (cm.ravel()[0]+cm.ravel()[3])/sum(cm.ravel())\n",
    "TPR = cm.ravel()[3]/(cm.ravel()[3]+cm.ravel()[2])\n",
    "FPR = cm.ravel()[1]/(cm.ravel()[1]+cm.ravel()[0])\n",
    "print('Accuracy is: %.4f' %acc)\n",
    "print('TPR is: %.4f' % TPR)\n",
    "print('FPR is: %.4f' % FPR)"
   ]
  },
  {
   "cell_type": "code",
   "execution_count": 6,
   "id": "d5b2d7bc",
   "metadata": {},
   "outputs": [
    {
     "name": "stdout",
     "output_type": "stream",
     "text": [
      "Confusion Matrix : \n",
      " [[933   0]\n",
      " [165   0]]\n",
      "Accuracy is: 0.8497\n",
      "TPR is: 0.0000\n",
      "FPR is: 0.0000\n"
     ]
    }
   ],
   "source": [
    "# MAKE PREDICTIONS \n",
    "from sklearn.metrics import confusion_matrix\n",
    "from sklearn.metrics import precision_score\n",
    "from sklearn.metrics import recall_score\n",
    "\n",
    "y_pred = pd.Series([1 if x > 1 else 0 for x in y_prob], index=y_prob.index)\n",
    "cm = confusion_matrix(y_test, y_pred)\n",
    "\n",
    "print (\"Confusion Matrix : \\n\", cm)\n",
    "\n",
    "acc = (cm.ravel()[0]+cm.ravel()[3])/sum(cm.ravel())\n",
    "TPR = cm.ravel()[3]/(cm.ravel()[3]+cm.ravel()[2])\n",
    "FPR = cm.ravel()[1]/(cm.ravel()[1]+cm.ravel()[0])\n",
    "print('Accuracy is: %.4f' %acc)\n",
    "print('TPR is: %.4f' % TPR)\n",
    "print('FPR is: %.4f' % FPR)"
   ]
  },
  {
   "cell_type": "code",
   "execution_count": 7,
   "id": "3063436f",
   "metadata": {},
   "outputs": [
    {
     "name": "stdout",
     "output_type": "stream",
     "text": [
      "Confusion Matrix : \n",
      " [[930   3]\n",
      " [151  14]]\n",
      "Accuracy is: 0.8597\n",
      "TPR is: 0.0848\n",
      "FPR is: 0.0032\n"
     ]
    }
   ],
   "source": [
    "# 1. Predicting the probability of default\n",
    "y_prob = logreg.predict(framingham_test)\n",
    "\n",
    "# 2. Determining the optimal threshold of the default probability\n",
    "\n",
    "# 3. Predicting the label\n",
    "y_pred = pd.Series([1 if x > 1/2 else 0 for x in y_prob], index=y_prob.index)\n",
    "\n",
    "from sklearn.metrics import confusion_matrix\n",
    "y_test = framingham_test['TenYearCHD']\n",
    "\n",
    "cm = confusion_matrix(y_test, y_pred)\n",
    "print (\"Confusion Matrix : \\n\", cm) \n",
    "acc = (cm.ravel()[0]+cm.ravel()[3])/sum(cm.ravel())\n",
    "TPR = cm.ravel()[3]/(cm.ravel()[3]+cm.ravel()[2])\n",
    "FPR = cm.ravel()[1]/(cm.ravel()[1]+cm.ravel()[0])\n",
    "print('Accuracy is: %.4f' %acc)\n",
    "print('TPR is: %.4f' % TPR)\n",
    "print('FPR is: %.4f' % FPR)"
   ]
  },
  {
   "cell_type": "code",
   "execution_count": 8,
   "id": "554f0a5a",
   "metadata": {},
   "outputs": [],
   "source": [
    "y_train = framingham_train['TenYearCHD']\n",
    "X_train = framingham_train.drop(['TenYearCHD'], axis=1)\n",
    "\n",
    "y_test = framingham_test['TenYearCHD']\n",
    "X_test = framingham_test.drop(['TenYearCHD'], axis=1)"
   ]
  },
  {
   "cell_type": "code",
   "execution_count": 10,
   "id": "bae97a4e",
   "metadata": {},
   "outputs": [
    {
     "data": {
      "text/plain": [
       "15"
      ]
     },
     "execution_count": 10,
     "metadata": {},
     "output_type": "execute_result"
    }
   ],
   "source": [
    "len(X_train.axes[1])"
   ]
  },
  {
   "cell_type": "code",
   "execution_count": 11,
   "id": "0bc6d154",
   "metadata": {},
   "outputs": [
    {
     "data": {
      "text/plain": [
       "15"
      ]
     },
     "execution_count": 11,
     "metadata": {},
     "output_type": "execute_result"
    }
   ],
   "source": [
    "len(X_test.axes[1])"
   ]
  },
  {
   "cell_type": "code",
   "execution_count": 13,
   "id": "b4bfaca1",
   "metadata": {},
   "outputs": [
    {
     "data": {
      "text/plain": [
       "2560"
      ]
     },
     "execution_count": 13,
     "metadata": {},
     "output_type": "execute_result"
    }
   ],
   "source": [
    "len(y_train.axes[0])"
   ]
  },
  {
   "cell_type": "code",
   "execution_count": 9,
   "id": "d51528c8",
   "metadata": {},
   "outputs": [
    {
     "data": {
      "image/png": "[encoded data removed]",
      "text/plain": [
       "<Figure size 576x432 with 1 Axes>"
      ]
     },
     "metadata": {
      "needs_background": "light"
     },
     "output_type": "display_data"
    }
   ],
   "source": [
    "import matplotlib.pyplot as plt\n",
    "from sklearn.metrics import roc_curve, auc\n",
    "\n",
    "fpr, tpr, _ = roc_curve(y_test, y_prob)\n",
    "roc_auc = auc(fpr, tpr)\n",
    "\n",
    "plt.figure(figsize=(8, 6))\n",
    "plt.title('ROC Curve', fontsize=18)\n",
    "plt.xlabel('FPR', fontsize=16)\n",
    "plt.ylabel('TPR', fontsize=16)\n",
    "plt.xlim([-0.01, 1.00])\n",
    "plt.ylim([-0.01, 1.01])\n",
    "plt.plot(fpr, tpr, lw=3, label='Logistic Regression (area = {:0.2f})'.format(roc_auc))\n",
    "plt.plot([0, 1], [0, 1], color='navy', lw=3, linestyle='--', label='Naive Baseline (area = 0.50)')\n",
    "plt.legend(loc='lower right', fontsize=14)\n",
    "plt.show()"
   ]
  },
  {
   "cell_type": "code",
   "execution_count": null,
   "id": "cee505a1",
   "metadata": {},
   "outputs": [],
   "source": []
  }
 ],
 "metadata": {
  "kernelspec": {
   "display_name": "Python 3",
   "language": "python",
   "name": "python3"
  },
  "language_info": {
   "codemirror_mode": {
    "name": "ipython",
    "version": 3
   },
   "file_extension": ".py",
   "mimetype": "text/x-python",
   "name": "python",
   "nbconvert_exporter": "python",
   "pygments_lexer": "ipython3",
   "version": "3.8.8"
  }
 },
 "nbformat": 4,
 "nbformat_minor": 5
}
