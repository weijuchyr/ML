{
 "cells": [
  {
   "cell_type": "code",
   "execution_count": 1,
   "id": "a9c35fd6",
   "metadata": {
    "id": "a9c35fd6"
   },
   "outputs": [],
   "source": [
    "import pandas as pd\n",
    "import numpy as np\n",
    "import matplotlib.pyplot as plt"
   ]
  },
  {
   "cell_type": "code",
   "execution_count": 2,
   "id": "a90ca88f",
   "metadata": {},
   "outputs": [],
   "source": [
    "ACCIDENT_2011 = pd.read_csv(\"ACCIDENT 2011.csv\",encoding='latin-1')\n",
    "ACCIDENT_2012 = pd.read_csv(\"ACCIDENT 2012.csv\",encoding='latin-1')\n",
    "ACCIDENT_2013 = pd.read_csv(\"ACCIDENT 2013.csv\",encoding='latin-1')\n",
    "ACCIDENT_2014 = pd.read_csv(\"ACCIDENT 2014.csv\",encoding='latin-1')\n",
    "ACCIDENT_2015 = pd.read_csv(\"ACCIDENT 2015.csv\",encoding='latin-1')\n",
    "ACCIDENT_2016 = pd.read_csv(\"ACCIDENT 2016.csv\",encoding='latin-1')\n",
    "ACCIDENT_2017 = pd.read_csv(\"ACCIDENT 2017.csv\",encoding='latin-1')\n",
    "ACCIDENT_2018 = pd.read_csv(\"ACCIDENT 2018.csv\",encoding='latin-1')\n",
    "ACCIDENT_2019 = pd.read_csv(\"ACCIDENT 2019.csv\",encoding='latin-1')\n",
    "ACCIDENT_2020 = pd.read_csv(\"ACCIDENT 2020.csv\",encoding='latin-1')\n",
    "ACCIDENT_2021 = pd.read_csv(\"ACCIDENT 2021.csv\",encoding='latin-1')"
   ]
  },
  {
   "cell_type": "code",
   "execution_count": 3,
   "id": "2cea3237",
   "metadata": {},
   "outputs": [],
   "source": [
    "#list dataframe you want to append\n",
    "frame = [ACCIDENT_2011, ACCIDENT_2012, ACCIDENT_2013, ACCIDENT_2014, ACCIDENT_2015, ACCIDENT_2016, ACCIDENT_2017, ACCIDENT_2018, ACCIDENT_2019, ACCIDENT_2020, ACCIDENT_2021]\n",
    "\n",
    "#new dataframe to store append result\n",
    "myDataFrame = pd.DataFrame()\n",
    "\n",
    "for df in frame:\n",
    "    myDataFrame = myDataFrame.append(df)"
   ]
  },
  {
   "cell_type": "code",
   "execution_count": 4,
   "id": "a542dfda",
   "metadata": {},
   "outputs": [
    {
     "data": {
      "text/plain": [
       "365826"
      ]
     },
     "execution_count": 4,
     "metadata": {},
     "output_type": "execute_result"
    }
   ],
   "source": [
    "len(myDataFrame)"
   ]
  },
  {
   "cell_type": "code",
   "execution_count": 5,
   "id": "e96a2dd6",
   "metadata": {},
   "outputs": [
    {
     "data": {
      "text/plain": [
       "(365826, 117)"
      ]
     },
     "execution_count": 5,
     "metadata": {},
     "output_type": "execute_result"
    }
   ],
   "source": [
    "myDataFrame.shape"
   ]
  },
  {
   "cell_type": "code",
   "execution_count": 6,
   "id": "a41f4f9f",
   "metadata": {},
   "outputs": [],
   "source": [
    "accident = myDataFrame"
   ]
  },
  {
   "cell_type": "code",
   "execution_count": 7,
   "id": "q4Qy_B5txlcQ",
   "metadata": {
    "id": "q4Qy_B5txlcQ"
   },
   "outputs": [],
   "source": [
    "#Analysing accident data fatalities using Regression, LDA, random forest and boosting"
   ]
  },
  {
   "cell_type": "code",
   "execution_count": 8,
   "id": "7b99fa52",
   "metadata": {},
   "outputs": [
    {
     "data": {
      "text/html": [
       "<div>\n",
       "<style scoped>\n",
       "    .dataframe tbody tr th:only-of-type {\n",
       "        vertical-align: middle;\n",
       "    }\n",
       "\n",
       "    .dataframe tbody tr th {\n",
       "        vertical-align: top;\n",
       "    }\n",
       "\n",
       "    .dataframe thead th {\n",
       "        text-align: right;\n",
       "    }\n",
       "</style>\n",
       "<table border=\"1\" class=\"dataframe\">\n",
       "  <thead>\n",
       "    <tr style=\"text-align: right;\">\n",
       "      <th></th>\n",
       "      <th>ST_CASE</th>\n",
       "      <th>YEAR</th>\n",
       "      <th>STATE</th>\n",
       "      <th>COUNTY</th>\n",
       "      <th>FATALS</th>\n",
       "      <th>A_CRAINJ</th>\n",
       "      <th>A_REGION</th>\n",
       "      <th>A_RU</th>\n",
       "      <th>A_INTER</th>\n",
       "      <th>A_RELRD</th>\n",
       "      <th>...</th>\n",
       "      <th>NOT_MIN</th>\n",
       "      <th>NOT_MINNAME</th>\n",
       "      <th>ARR_HOUR</th>\n",
       "      <th>ARR_HOURNAME</th>\n",
       "      <th>ARR_MIN</th>\n",
       "      <th>ARR_MINNAME</th>\n",
       "      <th>HOSP_HR</th>\n",
       "      <th>HOSP_HRNAME</th>\n",
       "      <th>HOSP_MN</th>\n",
       "      <th>HOSP_MNNAME</th>\n",
       "    </tr>\n",
       "  </thead>\n",
       "  <tbody>\n",
       "    <tr>\n",
       "      <th>0</th>\n",
       "      <td>10001</td>\n",
       "      <td>2011</td>\n",
       "      <td>1</td>\n",
       "      <td>5</td>\n",
       "      <td>1</td>\n",
       "      <td>1.0</td>\n",
       "      <td>4.0</td>\n",
       "      <td>1.0</td>\n",
       "      <td>2.0</td>\n",
       "      <td>4.0</td>\n",
       "      <td>...</td>\n",
       "      <td>NaN</td>\n",
       "      <td>NaN</td>\n",
       "      <td>NaN</td>\n",
       "      <td>NaN</td>\n",
       "      <td>NaN</td>\n",
       "      <td>NaN</td>\n",
       "      <td>NaN</td>\n",
       "      <td>NaN</td>\n",
       "      <td>NaN</td>\n",
       "      <td>NaN</td>\n",
       "    </tr>\n",
       "    <tr>\n",
       "      <th>1</th>\n",
       "      <td>10002</td>\n",
       "      <td>2011</td>\n",
       "      <td>1</td>\n",
       "      <td>73</td>\n",
       "      <td>1</td>\n",
       "      <td>1.0</td>\n",
       "      <td>4.0</td>\n",
       "      <td>2.0</td>\n",
       "      <td>2.0</td>\n",
       "      <td>4.0</td>\n",
       "      <td>...</td>\n",
       "      <td>NaN</td>\n",
       "      <td>NaN</td>\n",
       "      <td>NaN</td>\n",
       "      <td>NaN</td>\n",
       "      <td>NaN</td>\n",
       "      <td>NaN</td>\n",
       "      <td>NaN</td>\n",
       "      <td>NaN</td>\n",
       "      <td>NaN</td>\n",
       "      <td>NaN</td>\n",
       "    </tr>\n",
       "    <tr>\n",
       "      <th>2</th>\n",
       "      <td>10003</td>\n",
       "      <td>2011</td>\n",
       "      <td>1</td>\n",
       "      <td>97</td>\n",
       "      <td>2</td>\n",
       "      <td>1.0</td>\n",
       "      <td>4.0</td>\n",
       "      <td>2.0</td>\n",
       "      <td>2.0</td>\n",
       "      <td>1.0</td>\n",
       "      <td>...</td>\n",
       "      <td>NaN</td>\n",
       "      <td>NaN</td>\n",
       "      <td>NaN</td>\n",
       "      <td>NaN</td>\n",
       "      <td>NaN</td>\n",
       "      <td>NaN</td>\n",
       "      <td>NaN</td>\n",
       "      <td>NaN</td>\n",
       "      <td>NaN</td>\n",
       "      <td>NaN</td>\n",
       "    </tr>\n",
       "    <tr>\n",
       "      <th>3</th>\n",
       "      <td>10005</td>\n",
       "      <td>2011</td>\n",
       "      <td>1</td>\n",
       "      <td>15</td>\n",
       "      <td>1</td>\n",
       "      <td>1.0</td>\n",
       "      <td>4.0</td>\n",
       "      <td>2.0</td>\n",
       "      <td>2.0</td>\n",
       "      <td>4.0</td>\n",
       "      <td>...</td>\n",
       "      <td>NaN</td>\n",
       "      <td>NaN</td>\n",
       "      <td>NaN</td>\n",
       "      <td>NaN</td>\n",
       "      <td>NaN</td>\n",
       "      <td>NaN</td>\n",
       "      <td>NaN</td>\n",
       "      <td>NaN</td>\n",
       "      <td>NaN</td>\n",
       "      <td>NaN</td>\n",
       "    </tr>\n",
       "    <tr>\n",
       "      <th>4</th>\n",
       "      <td>10006</td>\n",
       "      <td>2011</td>\n",
       "      <td>1</td>\n",
       "      <td>71</td>\n",
       "      <td>1</td>\n",
       "      <td>1.0</td>\n",
       "      <td>4.0</td>\n",
       "      <td>1.0</td>\n",
       "      <td>2.0</td>\n",
       "      <td>4.0</td>\n",
       "      <td>...</td>\n",
       "      <td>NaN</td>\n",
       "      <td>NaN</td>\n",
       "      <td>NaN</td>\n",
       "      <td>NaN</td>\n",
       "      <td>NaN</td>\n",
       "      <td>NaN</td>\n",
       "      <td>NaN</td>\n",
       "      <td>NaN</td>\n",
       "      <td>NaN</td>\n",
       "      <td>NaN</td>\n",
       "    </tr>\n",
       "  </tbody>\n",
       "</table>\n",
       "<p>5 rows × 117 columns</p>\n",
       "</div>"
      ],
      "text/plain": [
       "   ST_CASE  YEAR  STATE  COUNTY  FATALS  A_CRAINJ  A_REGION  A_RU  A_INTER  \\\n",
       "0    10001  2011      1       5       1       1.0       4.0   1.0      2.0   \n",
       "1    10002  2011      1      73       1       1.0       4.0   2.0      2.0   \n",
       "2    10003  2011      1      97       2       1.0       4.0   2.0      2.0   \n",
       "3    10005  2011      1      15       1       1.0       4.0   2.0      2.0   \n",
       "4    10006  2011      1      71       1       1.0       4.0   1.0      2.0   \n",
       "\n",
       "   A_RELRD  ...  NOT_MIN  NOT_MINNAME  ARR_HOUR  ARR_HOURNAME  ARR_MIN  \\\n",
       "0      4.0  ...      NaN          NaN       NaN           NaN      NaN   \n",
       "1      4.0  ...      NaN          NaN       NaN           NaN      NaN   \n",
       "2      1.0  ...      NaN          NaN       NaN           NaN      NaN   \n",
       "3      4.0  ...      NaN          NaN       NaN           NaN      NaN   \n",
       "4      4.0  ...      NaN          NaN       NaN           NaN      NaN   \n",
       "\n",
       "   ARR_MINNAME  HOSP_HR  HOSP_HRNAME  HOSP_MN  HOSP_MNNAME  \n",
       "0          NaN      NaN          NaN      NaN          NaN  \n",
       "1          NaN      NaN          NaN      NaN          NaN  \n",
       "2          NaN      NaN          NaN      NaN          NaN  \n",
       "3          NaN      NaN          NaN      NaN          NaN  \n",
       "4          NaN      NaN          NaN      NaN          NaN  \n",
       "\n",
       "[5 rows x 117 columns]"
      ]
     },
     "execution_count": 8,
     "metadata": {},
     "output_type": "execute_result"
    }
   ],
   "source": [
    "accident.head()"
   ]
  },
  {
   "cell_type": "code",
   "execution_count": 9,
   "id": "fb508436",
   "metadata": {
    "id": "fb508436"
   },
   "outputs": [],
   "source": [
    "#load data\n",
    "accident = pd.read_csv(\"accident.csv\", low_memory=False, encoding='latin-1')"
   ]
  },
  {
   "cell_type": "code",
   "execution_count": 10,
   "id": "eb11801b",
   "metadata": {
    "id": "eb11801b"
   },
   "outputs": [],
   "source": [
    "accident['FATAL_RATE'] = np.where(accident['PERSONS']*(0.5) <= accident['FATALS'], 1, 0)"
   ]
  },
  {
   "cell_type": "code",
   "execution_count": 11,
   "id": "53e8fa4b",
   "metadata": {
    "id": "53e8fa4b"
   },
   "outputs": [],
   "source": [
    "# accident['FATAL_RATE'] = accident['PERSONS']/accident['FATALS']"
   ]
  },
  {
   "cell_type": "code",
   "execution_count": 12,
   "id": "eaf74c9f",
   "metadata": {
    "id": "eaf74c9f"
   },
   "outputs": [],
   "source": [
    "X = accident[['STATE','ST_CASE','PEDS','PERNOTMVIT','VE_TOTAL','VE_FORMS','PVH_INVL','PERSONS','PERMVIT','COUNTY','CITY','MONTH','DAY','DAYNAME','DAY_WEEK','YEAR','HOUR','MINUTE','ROUTE','RUR_URB','FUNC_SYS','RD_OWNER','NHS','SP_JUR','MILEPT','HARM_EV','MAN_COLL','RELJCT1','RELJCT2','TYP_INT','REL_ROAD','WRK_ZONE','LGT_COND','WEATHER','SCH_BUS','NOT_HOUR','NOT_MIN','ARR_HOUR','ARR_MIN','HOSP_HR','HOSP_MN','FATALS']]\n",
    "y = accident['FATAL_RATE']"
   ]
  },
  {
   "cell_type": "code",
   "execution_count": 13,
   "id": "2446308c",
   "metadata": {
    "id": "2446308c"
   },
   "outputs": [],
   "source": [
    "# convert the independent variables to categorical variables\n",
    "X = pd.get_dummies(X, columns=['STATE','PERNOTMVIT','VE_FORMS','PVH_INVL','PERSONS','COUNTY','CITY','MONTH','DAY','DAY_WEEK','YEAR','HOUR','MINUTE','ROUTE','RUR_URB','FUNC_SYS','RD_OWNER','NHS','SP_JUR','MILEPT','HARM_EV','MAN_COLL','RELJCT1','RELJCT2','TYP_INT','REL_ROAD','WRK_ZONE','LGT_COND','WEATHER','SCH_BUS','ARR_MIN','HOSP_HR','HOSP_MN','FATALS'])"
   ]
  },
  {
   "cell_type": "code",
   "execution_count": 14,
   "id": "47c3b942",
   "metadata": {
    "id": "47c3b942"
   },
   "outputs": [],
   "source": [
    "from sklearn.model_selection import train_test_split\n",
    "\n",
    "# Split the data into a training set and a temporary set\n",
    "X_train, X_temp, y_train, y_temp = train_test_split(X, y, test_size=0.2, random_state=42)\n",
    "\n",
    "# Split the temporary set into a validation set and a test set\n",
    "X_val, X_test, y_val, y_test = train_test_split(X_temp, y_temp, test_size=0.5, random_state=42)"
   ]
  },
  {
   "cell_type": "markdown",
   "id": "efc62562",
   "metadata": {
    "id": "efc62562"
   },
   "source": [
    "### Helper Functions"
   ]
  },
  {
   "cell_type": "code",
   "execution_count": 15,
   "id": "81b2a751",
   "metadata": {
    "id": "81b2a751"
   },
   "outputs": [],
   "source": [
    "def OSR2(y_train, y_test, y_pred):\n",
    "    \n",
    "    SSE = np.sum((y_test - y_pred)**2)\n",
    "    SST = np.sum((y_test - np.mean(y_train))**2)\n",
    "                 \n",
    "    return (1 - SSE/SST)"
   ]
  },
  {
   "cell_type": "code",
   "execution_count": 16,
   "id": "a36c68e3",
   "metadata": {
    "id": "a36c68e3"
   },
   "outputs": [],
   "source": [
    "def MAE(y_test, y_pred):\n",
    "    \n",
    "    return (np.mean(abs(y_test - y_pred)))"
   ]
  },
  {
   "cell_type": "code",
   "execution_count": 17,
   "id": "201bb128",
   "metadata": {
    "id": "201bb128"
   },
   "outputs": [],
   "source": [
    "def RMSE(y_test, y_pred):\n",
    "    \n",
    "    return np.sqrt(np.mean((y_test - y_pred)**2))"
   ]
  },
  {
   "cell_type": "markdown",
   "id": "2ae11ff9",
   "metadata": {
    "id": "2ae11ff9"
   },
   "source": [
    "## PCA (Significant columns)"
   ]
  },
  {
   "cell_type": "code",
   "execution_count": 18,
   "id": "9d7cee91",
   "metadata": {
    "id": "9d7cee91",
    "outputId": "75e8e794-170f-412d-dbb6-35b9f56892b7"
   },
   "outputs": [
    {
     "name": "stdout",
     "output_type": "stream",
     "text": [
      "Shape of X_train: 5403\n",
      "Shape of X_train_reduced: 20\n",
      "Shape of X_val_reduced: 20\n"
     ]
    }
   ],
   "source": [
    "from sklearn.decomposition import PCA\n",
    "\n",
    "# Fit PCA on the training set\n",
    "# Filter the components to 20\n",
    "pca_temp = PCA(n_components=20)\n",
    "pca_temp.fit(X_train)\n",
    "        \n",
    "# Transform the training, validation, and test sets using the fitted PCA model\n",
    "X_train_reduced = pca_temp.transform(X_train)\n",
    "X_val_reduced = pca_temp.transform(X_val)\n",
    "X_test_reduced = pca_temp.transform(X_test)\n",
    "\n",
    "# Print the shape of the reduced feature matrix for each set\n",
    "print(\"Shape of X_train:\", X_train.shape[1])\n",
    "print(\"Shape of X_train_reduced:\", X_train_reduced.shape[1])\n",
    "print(\"Shape of X_val_reduced:\", X_val_reduced.shape[1])"
   ]
  },
  {
   "cell_type": "code",
   "execution_count": 19,
   "id": "673b0063",
   "metadata": {
    "id": "673b0063",
    "outputId": "8228a6e1-22b0-452e-8177-84ff568ac0b7"
   },
   "outputs": [
    {
     "data": {
      "image/png": "[encoded data removed]",
      "text/plain": [
       "<Figure size 432x288 with 1 Axes>"
      ]
     },
     "metadata": {
      "needs_background": "light"
     },
     "output_type": "display_data"
    }
   ],
   "source": [
    "import matplotlib.pyplot as plt\n",
    "\n",
    "# Plot the explained variance ratio for each principal component\n",
    "plt.plot(range(1, 21), pca_temp.explained_variance_ratio_, marker='o')\n",
    "plt.xlabel('Principal Component')\n",
    "plt.ylabel('Explained Variance Ratio')\n",
    "plt.title('Explained Variance Ratio for Each Principal Component')\n",
    "plt.show()"
   ]
  },
  {
   "cell_type": "markdown",
   "id": "f01b985e",
   "metadata": {
    "id": "f01b985e"
   },
   "source": [
    "## PCA"
   ]
  },
  {
   "cell_type": "code",
   "execution_count": 20,
   "id": "d67c65eb",
   "metadata": {
    "id": "d67c65eb",
    "outputId": "fb6d67ab-feb7-42e9-d5b8-bce8bbb1c46e"
   },
   "outputs": [
    {
     "name": "stdout",
     "output_type": "stream",
     "text": [
      "Shape of X_train: 5403\n",
      "Shape of X_train_reduced: 20\n",
      "Shape of X_val_reduced: 20\n"
     ]
    }
   ],
   "source": [
    "from sklearn.decomposition import PCA\n",
    "\n",
    "# Fit PCA on the training set\n",
    "# Filter the components to 2\n",
    "pca = PCA(n_components=20)\n",
    "pca.fit(X_train)\n",
    "        \n",
    "# Transform the training, validation, and test sets using the fitted PCA model\n",
    "X_train_reduced = pca.transform(X_train)\n",
    "X_val_reduced = pca.transform(X_val)\n",
    "X_test_reduced = pca.transform(X_test)\n",
    "\n",
    "# Print the shape of the reduced feature matrix for each set\n",
    "print(\"Shape of X_train:\", X_train.shape[1])\n",
    "print(\"Shape of X_train_reduced:\", X_train_reduced.shape[1])\n",
    "print(\"Shape of X_val_reduced:\", X_val_reduced.shape[1])"
   ]
  },
  {
   "cell_type": "markdown",
   "id": "f1e2547a",
   "metadata": {
    "id": "f1e2547a"
   },
   "source": [
    "## Linear Regression"
   ]
  },
  {
   "cell_type": "code",
   "execution_count": 21,
   "id": "ea89eb0a",
   "metadata": {
    "id": "ea89eb0a"
   },
   "outputs": [],
   "source": [
    "from sklearn.linear_model import LinearRegression\n",
    "\n",
    "# Initialize a linear regression model\n",
    "lr = LinearRegression()\n",
    "\n",
    "# Fit the linear regression model on the training data\n",
    "lr_mod = lr.fit(X_train_reduced, y_train)\n",
    "\n",
    "# Predict the target variable of the test data using the fitted model\n",
    "y_pred = lr_mod.predict(X_val_reduced)\n",
    "y_pred_test = lr_mod.predict(X_test_reduced)"
   ]
  },
  {
   "cell_type": "code",
   "execution_count": 22,
   "id": "4d5a71e8",
   "metadata": {
    "id": "4d5a71e8",
    "outputId": "d74f71cf-e739-4b0e-d495-9fbd7d71f618"
   },
   "outputs": [
    {
     "name": "stdout",
     "output_type": "stream",
     "text": [
      "Index(['STATE_13', 'NOT_HOUR', 'STATE_5', 'STATE_2', 'STATE_15', 'STATE_6',\n",
      "       'STATE_9', 'STATE_12', 'STATE_1', 'STATE_8', 'STATE_10', 'NOT_MIN',\n",
      "       'STATE_4', 'STATE_11', 'ARR_HOUR', 'DAYNAME', 'PEDS', 'PERMVIT',\n",
      "       'VE_TOTAL', 'ST_CASE'],\n",
      "      dtype='object')\n"
     ]
    }
   ],
   "source": [
    "# Obtain the coefficients of each feature\n",
    "coefs = lr_mod.coef_\n",
    "\n",
    "# Obtain the indices of the coefficients in ascending order of magnitude\n",
    "sorted_indices = np.argsort(np.abs(coefs))[::-1]\n",
    "\n",
    "# Select the first 20 indices from the sorted indices list\n",
    "top_20_indices = sorted_indices[:20]\n",
    "\n",
    "# Obtain the names of the top 20 features\n",
    "lr_top_20_features = X.columns[top_20_indices]\n",
    "\n",
    "print(lr_top_20_features)"
   ]
  },
  {
   "cell_type": "code",
   "execution_count": 23,
   "id": "a1cd62a0",
   "metadata": {
    "id": "a1cd62a0"
   },
   "outputs": [],
   "source": [
    "sm_MAE = MAE(y_val, y_pred)\n",
    "sm_RMSE = RMSE(y_val, y_pred)\n",
    "sm_OSR2 = OSR2(y_train, y_val, y_pred)"
   ]
  },
  {
   "cell_type": "code",
   "execution_count": 24,
   "id": "94ab556a",
   "metadata": {
    "id": "94ab556a"
   },
   "outputs": [],
   "source": [
    "sm_MAE_test = MAE(y_test, y_pred_test)\n",
    "sm_RMSE_test = RMSE(y_test, y_pred_test)\n",
    "sm_OSR2_test = OSR2(y_train, y_test, y_pred_test)"
   ]
  },
  {
   "cell_type": "markdown",
   "id": "e1d731ea",
   "metadata": {
    "id": "e1d731ea"
   },
   "source": [
    "## Random Forest"
   ]
  },
  {
   "cell_type": "code",
   "execution_count": 25,
   "id": "19e3f9ac",
   "metadata": {
    "id": "19e3f9ac"
   },
   "outputs": [],
   "source": [
    "from sklearn.ensemble import RandomForestClassifier\n",
    "\n",
    "# Instantiate the Random Forest classifier\n",
    "rf_clf = RandomForestClassifier(n_estimators=100, random_state=88)\n",
    "\n",
    "# Fit the classifier to the training data\n",
    "rf_mod = rf_clf.fit(X_train_reduced, y_train)\n",
    "\n",
    "# Predict the labels of the test data\n",
    "y_pred = rf_mod.predict(X_val_reduced)\n",
    "y_pred_test = rf_mod.predict(X_test_reduced)"
   ]
  },
  {
   "cell_type": "code",
   "execution_count": 26,
   "id": "6c8a9fa7",
   "metadata": {
    "id": "6c8a9fa7",
    "outputId": "8ec8f24c-ef8e-458f-ad84-3713e0b0b23d"
   },
   "outputs": [
    {
     "name": "stdout",
     "output_type": "stream",
     "text": [
      "Index(['NOT_HOUR', 'STATE_13', 'STATE_5', 'NOT_MIN', 'STATE_2', 'ARR_HOUR',\n",
      "       'STATE_1', 'STATE_6', 'STATE_4', 'STATE_10', 'STATE_9', 'STATE_15',\n",
      "       'STATE_8', 'PEDS', 'STATE_11', 'STATE_12', 'ST_CASE', 'PERMVIT',\n",
      "       'DAYNAME', 'VE_TOTAL'],\n",
      "      dtype='object')\n"
     ]
    }
   ],
   "source": [
    "# Obtain the feature importances\n",
    "importances = rf_mod.feature_importances_\n",
    "\n",
    "# Obtain the indices of the feature importances in descending order\n",
    "sorted_indices = np.argsort(importances)[::-1]\n",
    "\n",
    "# Select the first 20 indices from the sorted indices list\n",
    "top_20_indices = sorted_indices[:20]\n",
    "\n",
    "# Obtain the names of the top 20 features\n",
    "rf_top_20_features = X.columns[top_20_indices]\n",
    "\n",
    "print(rf_top_20_features)"
   ]
  },
  {
   "cell_type": "code",
   "execution_count": 27,
   "id": "d2538ff2",
   "metadata": {
    "id": "d2538ff2"
   },
   "outputs": [],
   "source": [
    "rf_MAE = MAE(y_val, y_pred)\n",
    "rf_RMSE = RMSE(y_val, y_pred)\n",
    "rf_OSR2 = OSR2(y_train, y_val, y_pred)"
   ]
  },
  {
   "cell_type": "code",
   "execution_count": 28,
   "id": "47176a61",
   "metadata": {
    "id": "47176a61"
   },
   "outputs": [],
   "source": [
    "rf_MAE_test = MAE(y_test, y_pred_test)\n",
    "rf_RMSE_test = RMSE(y_test, y_pred_test)\n",
    "rf_OSR2_test = OSR2(y_train, y_test, y_pred_test)"
   ]
  },
  {
   "cell_type": "markdown",
   "id": "eb60008a",
   "metadata": {
    "id": "eb60008a"
   },
   "source": [
    "## CART"
   ]
  },
  {
   "cell_type": "code",
   "execution_count": 29,
   "id": "29b10e48",
   "metadata": {
    "id": "29b10e48"
   },
   "outputs": [],
   "source": [
    "from sklearn.model_selection import GridSearchCV\n",
    "from sklearn.tree import DecisionTreeClassifier\n",
    "\n",
    "grid_values = {'ccp_alpha': np.linspace(0, 0.005, 20)}\n",
    "\n",
    "dtc = DecisionTreeClassifier(random_state=88)\n",
    "dtc_cv = GridSearchCV(dtc, param_grid=grid_values, cv=5).fit(X_train_reduced, y_train)\n",
    "y_pred = dtc_cv.predict(X_val_reduced)\n",
    "y_pred_test = dtc_cv.predict(X_test_reduced)"
   ]
  },
  {
   "cell_type": "code",
   "execution_count": 30,
   "id": "87204088",
   "metadata": {
    "id": "87204088",
    "outputId": "84d7d3b6-ca0b-4692-8d1b-488913a2b0f7"
   },
   "outputs": [
    {
     "data": {
      "image/png": "[encoded data removed]",
      "text/plain": [
       "<Figure size 576x432 with 1 Axes>"
      ]
     },
     "metadata": {
      "needs_background": "light"
     },
     "output_type": "display_data"
    },
    {
     "name": "stdout",
     "output_type": "stream",
     "text": [
      "Best ccp_alpha {'ccp_alpha': 0.0002631578947368421}\n"
     ]
    }
   ],
   "source": [
    "ccp_alpha = dtc_cv.cv_results_['param_ccp_alpha'].data\n",
    "ACC_scores = dtc_cv.cv_results_['mean_test_score']\n",
    "\n",
    "plt.figure(figsize=(8, 6))\n",
    "plt.xlabel('ccp_alpha', fontsize=16)\n",
    "plt.ylabel('CV Accuracy', fontsize=16)\n",
    "plt.scatter(ccp_alpha, ACC_scores, s=3)\n",
    "plt.plot(ccp_alpha, ACC_scores, linewidth=3)\n",
    "plt.grid(True, which='both')\n",
    "\n",
    "plt.tight_layout()\n",
    "plt.show()\n",
    "\n",
    "print('Best ccp_alpha', dtc_cv.best_params_)"
   ]
  },
  {
   "cell_type": "code",
   "execution_count": 31,
   "id": "71f4e248",
   "metadata": {
    "id": "71f4e248",
    "outputId": "03dc3663-a7d8-4287-8ef7-52c812ad3178"
   },
   "outputs": [
    {
     "name": "stdout",
     "output_type": "stream",
     "text": [
      "Node count = 51\n"
     ]
    },
    {
     "data": {
      "image/png": "[encoded data removed]",
      "text/plain": [
       "<Figure size 432x432 with 1 Axes>"
      ]
     },
     "metadata": {
      "needs_background": "light"
     },
     "output_type": "display_data"
    }
   ],
   "source": [
    "from sklearn.tree import plot_tree\n",
    "\n",
    "print('Node count =', dtc_cv.best_estimator_.tree_.node_count)\n",
    "plt.figure(figsize=(6,6))\n",
    "plot_tree(dtc_cv.best_estimator_, \n",
    "#           feature_names=X_reduced_train.columns, \n",
    "          class_names=['0','1'], \n",
    "          filled=True,\n",
    "          impurity=False,\n",
    "          fontsize=12) \n",
    "plt.show()"
   ]
  },
  {
   "cell_type": "code",
   "execution_count": 32,
   "id": "f1f64474",
   "metadata": {
    "id": "f1f64474",
    "outputId": "2ab1d560-42b0-49d0-d414-4cec486a4762"
   },
   "outputs": [
    {
     "name": "stdout",
     "output_type": "stream",
     "text": [
      "Index(['NOT_HOUR', 'STATE_13', 'NOT_MIN', 'STATE_5', 'ARR_HOUR', 'STATE_6',\n",
      "       'STATE_10', 'STATE_9', 'STATE_15', 'PEDS', 'VE_TOTAL', 'PERMVIT',\n",
      "       'DAYNAME', 'STATE_2', 'STATE_1', 'STATE_4', 'STATE_8', 'STATE_11',\n",
      "       'STATE_12', 'ST_CASE'],\n",
      "      dtype='object')\n"
     ]
    }
   ],
   "source": [
    "# Obtain the feature importances of the best model\n",
    "importances = dtc_cv.best_estimator_.feature_importances_\n",
    "\n",
    "# Obtain the indices of the feature importances in descending order\n",
    "sorted_indices = np.argsort(importances)[::-1]\n",
    "\n",
    "# Select the first 20 indices from the sorted indices list\n",
    "top_20_indices = sorted_indices[:20]\n",
    "\n",
    "# Obtain the names of the top 10 features\n",
    "cart_top_20_features = X.columns[top_20_indices]\n",
    "\n",
    "print(cart_top_20_features)"
   ]
  },
  {
   "cell_type": "code",
   "execution_count": 33,
   "id": "d4f2b0af",
   "metadata": {
    "id": "d4f2b0af"
   },
   "outputs": [],
   "source": [
    "cart_MAE = MAE(y_val, y_pred)\n",
    "cart_RMSE = RMSE(y_val, y_pred)\n",
    "cart_OSR2 = OSR2(y_train, y_val, y_pred)"
   ]
  },
  {
   "cell_type": "code",
   "execution_count": 34,
   "id": "e81ca4a8",
   "metadata": {
    "id": "e81ca4a8"
   },
   "outputs": [],
   "source": [
    "cart_MAE_test = MAE(y_test, y_pred_test)\n",
    "cart_RMSE_test = RMSE(y_test, y_pred_test)\n",
    "cart_OSR2_test = OSR2(y_train, y_test, y_pred_test)"
   ]
  },
  {
   "cell_type": "markdown",
   "id": "004b432a",
   "metadata": {
    "id": "004b432a"
   },
   "source": [
    "## LDA Model"
   ]
  },
  {
   "cell_type": "code",
   "execution_count": 35,
   "id": "b9c097a9",
   "metadata": {
    "id": "b9c097a9"
   },
   "outputs": [],
   "source": [
    "from sklearn.discriminant_analysis import LinearDiscriminantAnalysis\n",
    "\n",
    "lda = LinearDiscriminantAnalysis()\n",
    "lda_mod = lda.fit(X_train_reduced, y_train)\n",
    "y_pred = lda_mod.predict(X_val_reduced)\n",
    "y_pred_test = lda_mod.predict(X_test_reduced)"
   ]
  },
  {
   "cell_type": "code",
   "execution_count": 36,
   "id": "5750f791",
   "metadata": {
    "id": "5750f791",
    "outputId": "13d4da46-89a5-482e-878c-2cd51960d1cf"
   },
   "outputs": [
    {
     "name": "stdout",
     "output_type": "stream",
     "text": [
      "[['ST_CASE' 'VE_TOTAL' 'PERMVIT' 'PEDS' 'DAYNAME' 'ARR_HOUR' 'STATE_11'\n",
      "  'STATE_4' 'NOT_MIN' 'STATE_10' 'STATE_8' 'STATE_1' 'STATE_12' 'STATE_9'\n",
      "  'STATE_6' 'STATE_15' 'STATE_2' 'STATE_5' 'NOT_HOUR' 'STATE_13']]\n"
     ]
    },
    {
     "name": "stderr",
     "output_type": "stream",
     "text": [
      "<ipython-input-36-71fd57983caa>:14: FutureWarning: Support for multi-dimensional indexing (e.g. `obj[:, None]`) is deprecated and will be removed in a future version.  Convert to a numpy array before indexing instead.\n",
      "  lda_top_20_features = X.columns[top_20_indices]\n"
     ]
    }
   ],
   "source": [
    "# Obtain the coefficients of the LDA transformation\n",
    "coef = lda_mod.coef_\n",
    "\n",
    "# Compute the absolute value of the coefficients\n",
    "abs_coef = np.abs(coef)\n",
    "\n",
    "# Obtain the indices of the coefficients in descending order\n",
    "sorted_indices = np.argsort(abs_coef)[::-1]\n",
    "\n",
    "# Select the first 20 indices from the sorted indices list\n",
    "top_20_indices = sorted_indices[:20]\n",
    "\n",
    "# Obtain the names of the top 20 features\n",
    "lda_top_20_features = X.columns[top_20_indices]\n",
    "\n",
    "print(lda_top_20_features)"
   ]
  },
  {
   "cell_type": "code",
   "execution_count": 37,
   "id": "43d08cc7",
   "metadata": {
    "id": "43d08cc7"
   },
   "outputs": [],
   "source": [
    "lda_MAE = MAE(y_val, y_pred)\n",
    "lda_RMSE = RMSE(y_val, y_pred)\n",
    "lda_OSR2 = OSR2(y_train, y_val, y_pred)"
   ]
  },
  {
   "cell_type": "code",
   "execution_count": 38,
   "id": "d14d6d21",
   "metadata": {
    "id": "d14d6d21"
   },
   "outputs": [],
   "source": [
    "lda_MAE_test = MAE(y_test, y_pred_test)\n",
    "lda_RMSE_test = RMSE(y_test, y_pred_test)\n",
    "lda_OSR2_test = OSR2(y_train, y_test, y_pred_test)"
   ]
  },
  {
   "cell_type": "markdown",
   "id": "1dfa6808",
   "metadata": {
    "id": "1dfa6808"
   },
   "source": [
    "## Baseline Model"
   ]
  },
  {
   "cell_type": "code",
   "execution_count": 39,
   "id": "aff98726",
   "metadata": {
    "id": "aff98726"
   },
   "outputs": [],
   "source": [
    "from sklearn.dummy import DummyClassifier\n",
    "\n",
    "# Instantiate a dummy classifier with the strategy \"most frequent\"\n",
    "dummy_clf = DummyClassifier(strategy=\"most_frequent\")\n",
    "\n",
    "# Fit the classifier to the training data\n",
    "dummy_clf.fit(X_train_reduced, y_train)\n",
    "\n",
    "# Predict the labels of the test data\n",
    "y_pred = dummy_clf.predict(X_val_reduced)"
   ]
  },
  {
   "cell_type": "code",
   "execution_count": 40,
   "id": "97f65201",
   "metadata": {
    "id": "97f65201"
   },
   "outputs": [],
   "source": [
    "baseline_MAE = MAE(y_val, y_pred)\n",
    "baseline_RMSE = RMSE(y_val, y_pred)\n",
    "baseline_OSR2 = OSR2(y_train, y_val, y_pred)"
   ]
  },
  {
   "cell_type": "markdown",
   "id": "342dcc5a",
   "metadata": {},
   "source": [
    "## Boosting"
   ]
  },
  {
   "cell_type": "code",
   "execution_count": 41,
   "id": "7ded5b11",
   "metadata": {},
   "outputs": [],
   "source": [
    "from sklearn.ensemble import GradientBoostingClassifier\n",
    "\n",
    "# Initialize the Gradient Boosting Classifier\n",
    "gb = GradientBoostingClassifier(n_estimators=1000)\n",
    "\n",
    "# Train the classifier on the training data\n",
    "gb.fit(X_train_reduced, y_train)\n",
    "\n",
    "# Predict the labels of the bootstrap sample\n",
    "y_pred = gb.predict(X_val_reduced)\n",
    "y_pred_test = gb.predict(X_test_reduced)\n"
   ]
  },
  {
   "cell_type": "code",
   "execution_count": 42,
   "id": "c1a8957a",
   "metadata": {},
   "outputs": [],
   "source": [
    "boosting_MAE = MAE(y_val, y_pred)\n",
    "boosting_RMSE = RMSE(y_val, y_pred)\n",
    "boosting_OSR2 = OSR2(y_train, y_val, y_pred)"
   ]
  },
  {
   "cell_type": "code",
   "execution_count": 43,
   "id": "f9a89ad5",
   "metadata": {},
   "outputs": [],
   "source": [
    "boosting_MAE_test = MAE(y_test, y_pred_test)\n",
    "boosting_RMSE_test = RMSE(y_test, y_pred_test)\n",
    "boosting_OSR2_test = OSR2(y_train, y_test, y_pred_test)"
   ]
  },
  {
   "cell_type": "markdown",
   "id": "e106b7aa",
   "metadata": {
    "id": "e106b7aa"
   },
   "source": [
    "## Comparison Table"
   ]
  },
  {
   "cell_type": "code",
   "execution_count": 44,
   "id": "cc45c454",
   "metadata": {
    "id": "cc45c454",
    "outputId": "b97a05ec-c88e-4717-f029-4eac517b0758"
   },
   "outputs": [
    {
     "data": {
      "text/html": [
       "<div>\n",
       "<style scoped>\n",
       "    .dataframe tbody tr th:only-of-type {\n",
       "        vertical-align: middle;\n",
       "    }\n",
       "\n",
       "    .dataframe tbody tr th {\n",
       "        vertical-align: top;\n",
       "    }\n",
       "\n",
       "    .dataframe thead th {\n",
       "        text-align: right;\n",
       "    }\n",
       "</style>\n",
       "<table border=\"1\" class=\"dataframe\">\n",
       "  <thead>\n",
       "    <tr style=\"text-align: right;\">\n",
       "      <th></th>\n",
       "      <th>OSR2</th>\n",
       "      <th>MAE</th>\n",
       "      <th>RMSE</th>\n",
       "    </tr>\n",
       "  </thead>\n",
       "  <tbody>\n",
       "    <tr>\n",
       "      <th>Baseline</th>\n",
       "      <td>-0.352556</td>\n",
       "      <td>0.260693</td>\n",
       "      <td>0.510582</td>\n",
       "    </tr>\n",
       "    <tr>\n",
       "      <th>Linear Regression</th>\n",
       "      <td>0.621103</td>\n",
       "      <td>0.189651</td>\n",
       "      <td>0.270239</td>\n",
       "    </tr>\n",
       "    <tr>\n",
       "      <th>CART with CV</th>\n",
       "      <td>0.795147</td>\n",
       "      <td>0.039484</td>\n",
       "      <td>0.198705</td>\n",
       "    </tr>\n",
       "    <tr>\n",
       "      <th>Random Forest</th>\n",
       "      <td>0.796460</td>\n",
       "      <td>0.039231</td>\n",
       "      <td>0.198067</td>\n",
       "    </tr>\n",
       "    <tr>\n",
       "      <th>Linear Discriminant Analysis</th>\n",
       "      <td>0.636254</td>\n",
       "      <td>0.070109</td>\n",
       "      <td>0.264781</td>\n",
       "    </tr>\n",
       "    <tr>\n",
       "      <th>Boosting</th>\n",
       "      <td>0.796460</td>\n",
       "      <td>0.039231</td>\n",
       "      <td>0.198067</td>\n",
       "    </tr>\n",
       "  </tbody>\n",
       "</table>\n",
       "</div>"
      ],
      "text/plain": [
       "                                  OSR2       MAE      RMSE\n",
       "Baseline                     -0.352556  0.260693  0.510582\n",
       "Linear Regression             0.621103  0.189651  0.270239\n",
       "CART with CV                  0.795147  0.039484  0.198705\n",
       "Random Forest                 0.796460  0.039231  0.198067\n",
       "Linear Discriminant Analysis  0.636254  0.070109  0.264781\n",
       "Boosting                      0.796460  0.039231  0.198067"
      ]
     },
     "execution_count": 44,
     "metadata": {},
     "output_type": "execute_result"
    }
   ],
   "source": [
    "# print('Validation Set')\n",
    "#Create Comparison Table\n",
    "comparison_data = {'Baseline':[baseline_OSR2,baseline_MAE,baseline_RMSE],\n",
    "                   'Linear Regression':[sm_OSR2,sm_MAE,sm_RMSE],\n",
    "                   'CART with CV':[cart_OSR2,cart_MAE,cart_RMSE],\n",
    "                   'Random Forest':[rf_OSR2,rf_MAE,rf_RMSE],\n",
    "                   'Linear Discriminant Analysis':[lda_OSR2,lda_MAE, lda_RMSE],\n",
    "                   'Boosting':[boosting_OSR2,boosting_MAE, boosting_RMSE]}\n",
    "\n",
    "comparison_table = pd.DataFrame(data=comparison_data, index=['OSR2', 'MAE', 'RMSE']).transpose()\n",
    "comparison_table.style.set_properties(**{'font-size': '12pt',}).set_table_styles([{'selector': 'th', 'props': [('font-size', '10pt')]}])\n",
    "comparison_table"
   ]
  },
  {
   "cell_type": "code",
   "execution_count": 45,
   "id": "e31613bc",
   "metadata": {
    "id": "e31613bc",
    "outputId": "697b82ac-c2b8-4b14-dfb4-b801e36bb39d"
   },
   "outputs": [
    {
     "name": "stdout",
     "output_type": "stream",
     "text": [
      "Linear Regression \n",
      " Index(['STATE_13', 'NOT_HOUR', 'STATE_5', 'STATE_2', 'STATE_15', 'STATE_6',\n",
      "       'STATE_9', 'STATE_12', 'STATE_1', 'STATE_8', 'STATE_10', 'NOT_MIN',\n",
      "       'STATE_4', 'STATE_11', 'ARR_HOUR', 'DAYNAME', 'PEDS', 'PERMVIT',\n",
      "       'VE_TOTAL', 'ST_CASE'],\n",
      "      dtype='object')\n",
      "\n",
      "Random Forest\n",
      " Index(['NOT_HOUR', 'STATE_13', 'STATE_5', 'NOT_MIN', 'STATE_2', 'ARR_HOUR',\n",
      "       'STATE_1', 'STATE_6', 'STATE_4', 'STATE_10', 'STATE_9', 'STATE_15',\n",
      "       'STATE_8', 'PEDS', 'STATE_11', 'STATE_12', 'ST_CASE', 'PERMVIT',\n",
      "       'DAYNAME', 'VE_TOTAL'],\n",
      "      dtype='object')\n",
      "\n",
      "CART with CV\n",
      " Index(['NOT_HOUR', 'STATE_13', 'NOT_MIN', 'STATE_5', 'ARR_HOUR', 'STATE_6',\n",
      "       'STATE_10', 'STATE_9', 'STATE_15', 'PEDS', 'VE_TOTAL', 'PERMVIT',\n",
      "       'DAYNAME', 'STATE_2', 'STATE_1', 'STATE_4', 'STATE_8', 'STATE_11',\n",
      "       'STATE_12', 'ST_CASE'],\n",
      "      dtype='object')\n",
      "\n",
      "Linear Discriminant Analysis\n",
      " [['ST_CASE' 'VE_TOTAL' 'PERMVIT' 'PEDS' 'DAYNAME' 'ARR_HOUR' 'STATE_11'\n",
      "  'STATE_4' 'NOT_MIN' 'STATE_10' 'STATE_8' 'STATE_1' 'STATE_12' 'STATE_9'\n",
      "  'STATE_6' 'STATE_15' 'STATE_2' 'STATE_5' 'NOT_HOUR' 'STATE_13']]\n"
     ]
    }
   ],
   "source": [
    "# Display the comparison table\n",
    "print('Linear Regression \\n', lr_top_20_features)\n",
    "print('\\nRandom Forest\\n', rf_top_20_features)\n",
    "print('\\nCART with CV\\n', cart_top_20_features)\n",
    "print('\\nLinear Discriminant Analysis\\n', lda_top_20_features)"
   ]
  },
  {
   "cell_type": "markdown",
   "id": "c1863962",
   "metadata": {
    "id": "c1863962"
   },
   "source": [
    "## Model Blending"
   ]
  },
  {
   "cell_type": "code",
   "execution_count": 46,
   "id": "84821c93",
   "metadata": {
    "id": "84821c93"
   },
   "outputs": [],
   "source": [
    "rf_val_preds = rf_mod.predict(X_val_reduced)\n",
    "lr_val_preds = lr_mod.predict(X_val_reduced)\n",
    "cart_val_preds = dtc_cv.predict(X_val_reduced)\n",
    "lda_val_preds = lda_mod.predict(X_val_reduced)\n",
    "boosting_val_preds = lda_mod.predict(X_val_reduced)"
   ]
  },
  {
   "cell_type": "code",
   "execution_count": 47,
   "id": "54f0ae4e",
   "metadata": {
    "id": "54f0ae4e"
   },
   "outputs": [],
   "source": [
    "df_pred = pd.DataFrame({'y_rf': rf_val_preds, 'y_lr': lr_val_preds, 'y_cart': cart_val_preds, 'y_lda': lda_val_preds, 'y_boosting': boosting_val_preds})\n",
    "\n",
    "# concatenate with the original training set\n",
    "df_train = pd.concat([df_pred, X_train, y_train], axis=1)"
   ]
  },
  {
   "cell_type": "code",
   "execution_count": 48,
   "id": "43f7da1c",
   "metadata": {
    "id": "43f7da1c",
    "outputId": "e87de505-dd7b-4614-c9a8-10afc498f499"
   },
   "outputs": [
    {
     "name": "stdout",
     "output_type": "stream",
     "text": [
      "                                 OLS Regression Results                                \n",
      "=======================================================================================\n",
      "Dep. Variable:             FATAL_RATE   R-squared (uncentered):                   0.602\n",
      "Model:                            OLS   Adj. R-squared (uncentered):              0.601\n",
      "Method:                 Least Squares   F-statistic:                              1178.\n",
      "Date:                Wed, 03 May 2023   Prob (F-statistic):                        0.00\n",
      "Time:                        15:47:09   Log-Likelihood:                         -2529.6\n",
      "No. Observations:                3119   AIC:                                      5067.\n",
      "Df Residuals:                    3115   BIC:                                      5091.\n",
      "Df Model:                           4                                                  \n",
      "Covariance Type:            nonrobust                                                  \n",
      "==============================================================================\n",
      "                 coef    std err          t      P>|t|      [0.025      0.975]\n",
      "------------------------------------------------------------------------------\n",
      "y_rf          -0.7857      0.151     -5.216      0.000      -1.081      -0.490\n",
      "y_lr           1.0270      0.050     20.662      0.000       0.930       1.124\n",
      "y_cart         0.4429      0.146      3.026      0.002       0.156       0.730\n",
      "y_lda          0.0607      0.028      2.198      0.028       0.007       0.115\n",
      "y_boosting     0.0607      0.028      2.198      0.028       0.007       0.115\n",
      "==============================================================================\n",
      "Omnibus:                      286.447   Durbin-Watson:                   1.816\n",
      "Prob(Omnibus):                  0.000   Jarque-Bera (JB):             1891.778\n",
      "Skew:                          -0.116   Prob(JB):                         0.00\n",
      "Kurtosis:                       6.808   Cond. No.                     2.56e+17\n",
      "==============================================================================\n",
      "\n",
      "Notes:\n",
      "[1] R² is computed without centering (uncentered) since the model does not contain a constant.\n",
      "[2] Standard Errors assume that the covariance matrix of the errors is correctly specified.\n",
      "[3] The smallest eigenvalue is 1.66e-31. This might indicate that there are\n",
      "strong multicollinearity problems or that the design matrix is singular.\n"
     ]
    }
   ],
   "source": [
    "import statsmodels.formula.api as smf\n",
    "# fit an OLS model on the concatenated data\n",
    "model_ols = smf.ols('FATAL_RATE ~ y_rf + y_lr + y_cart + y_lda + y_boosting -1', data=df_train).fit()\n",
    "\n",
    "# predict on the test set using the OLS model\n",
    "y_pred_blend = model_ols.predict(df_pred)\n",
    "\n",
    "# blending_res = model_ols.fit()\n",
    "print(model_ols.summary())"
   ]
  },
  {
   "cell_type": "code",
   "execution_count": 49,
   "id": "wVrZ1WnJ1fZu",
   "metadata": {
    "id": "wVrZ1WnJ1fZu"
   },
   "outputs": [],
   "source": [
    "blend_MAE = MAE(y_test, y_pred_blend)\n",
    "blend_RMSE = RMSE(y_test, y_pred_blend)\n",
    "blend_OSR2 = OSR2(y_train, y_test, y_pred_blend)"
   ]
  },
  {
   "cell_type": "code",
   "execution_count": 50,
   "id": "d055f502",
   "metadata": {
    "id": "d055f502",
    "outputId": "55c81e6e-9a94-4c27-a5f1-a6c465d85e9d"
   },
   "outputs": [
    {
     "name": "stdout",
     "output_type": "stream",
     "text": [
      "                                 OLS Regression Results                                \n",
      "=======================================================================================\n",
      "Dep. Variable:             FATAL_RATE   R-squared (uncentered):                   0.547\n",
      "Model:                            OLS   Adj. R-squared (uncentered):              0.547\n",
      "Method:                 Least Squares   F-statistic:                              1256.\n",
      "Date:                Wed, 03 May 2023   Prob (F-statistic):                        0.00\n",
      "Time:                        15:47:09   Log-Likelihood:                         -2729.9\n",
      "No. Observations:                3119   AIC:                                      5466.\n",
      "Df Residuals:                    3116   BIC:                                      5484.\n",
      "Df Model:                           3                                                  \n",
      "Covariance Type:            nonrobust                                                  \n",
      "==============================================================================\n",
      "                 coef    std err          t      P>|t|      [0.025      0.975]\n",
      "------------------------------------------------------------------------------\n",
      "y_rf          -0.6521      0.160     -4.064      0.000      -0.967      -0.337\n",
      "y_cart         0.6642      0.156      4.268      0.000       0.359       0.969\n",
      "y_lda          0.3629      0.025     14.534      0.000       0.314       0.412\n",
      "y_boosting     0.3629      0.025     14.534      0.000       0.314       0.412\n",
      "==============================================================================\n",
      "Omnibus:                      102.692   Durbin-Watson:                   1.734\n",
      "Prob(Omnibus):                  0.000   Jarque-Bera (JB):               87.738\n",
      "Skew:                          -0.344   Prob(JB):                     8.87e-20\n",
      "Kurtosis:                       2.549   Cond. No.                     2.36e+16\n",
      "==============================================================================\n",
      "\n",
      "Notes:\n",
      "[1] R² is computed without centering (uncentered) since the model does not contain a constant.\n",
      "[2] Standard Errors assume that the covariance matrix of the errors is correctly specified.\n",
      "[3] The smallest eigenvalue is 1.6e-29. This might indicate that there are\n",
      "strong multicollinearity problems or that the design matrix is singular.\n"
     ]
    }
   ],
   "source": [
    "import statsmodels.formula.api as smf\n",
    "# fit an OLS model on the concatenated data\n",
    "model_ols = smf.ols('FATAL_RATE ~ y_rf + y_cart + y_lda + y_boosting -1', data=df_train).fit()\n",
    "\n",
    "# predict on the test set using the OLS model\n",
    "y_pred_blend_1 = model_ols.predict(df_pred)\n",
    "\n",
    "# blending_res = model_ols.fit()\n",
    "print(model_ols.summary())"
   ]
  },
  {
   "cell_type": "code",
   "execution_count": 51,
   "id": "fa9aa730",
   "metadata": {
    "id": "fa9aa730"
   },
   "outputs": [],
   "source": [
    "blend_MAE_1 = MAE(y_test, y_pred_blend_1)\n",
    "blend_RMSE_1 = RMSE(y_test, y_pred_blend_1)\n",
    "blend_OSR2_1 = OSR2(y_train, y_test, y_pred_blend_1)"
   ]
  },
  {
   "cell_type": "markdown",
   "id": "84f3f674",
   "metadata": {
    "id": "84f3f674"
   },
   "source": [
    "## Comparison Table"
   ]
  },
  {
   "cell_type": "code",
   "execution_count": 52,
   "id": "32c0ded4",
   "metadata": {
    "id": "32c0ded4",
    "outputId": "0d9af97b-f71e-4c04-9f77-3b4fbaf66fa4"
   },
   "outputs": [
    {
     "name": "stdout",
     "output_type": "stream",
     "text": [
      "Test Set\n"
     ]
    },
    {
     "data": {
      "text/html": [
       "<div>\n",
       "<style scoped>\n",
       "    .dataframe tbody tr th:only-of-type {\n",
       "        vertical-align: middle;\n",
       "    }\n",
       "\n",
       "    .dataframe tbody tr th {\n",
       "        vertical-align: top;\n",
       "    }\n",
       "\n",
       "    .dataframe thead th {\n",
       "        text-align: right;\n",
       "    }\n",
       "</style>\n",
       "<table border=\"1\" class=\"dataframe\">\n",
       "  <thead>\n",
       "    <tr style=\"text-align: right;\">\n",
       "      <th></th>\n",
       "      <th>OSR2</th>\n",
       "      <th>MAE</th>\n",
       "      <th>RMSE</th>\n",
       "    </tr>\n",
       "  </thead>\n",
       "  <tbody>\n",
       "    <tr>\n",
       "      <th>Blending</th>\n",
       "      <td>0.852073</td>\n",
       "      <td>0.443549</td>\n",
       "      <td>0.518969</td>\n",
       "    </tr>\n",
       "    <tr>\n",
       "      <th>Blending without LR</th>\n",
       "      <td>0.829047</td>\n",
       "      <td>0.450769</td>\n",
       "      <td>0.557901</td>\n",
       "    </tr>\n",
       "    <tr>\n",
       "      <th>Linear Regression</th>\n",
       "      <td>0.670838</td>\n",
       "      <td>0.185474</td>\n",
       "      <td>0.250594</td>\n",
       "    </tr>\n",
       "    <tr>\n",
       "      <th>CART with CV</th>\n",
       "      <td>0.798346</td>\n",
       "      <td>0.038471</td>\n",
       "      <td>0.196141</td>\n",
       "    </tr>\n",
       "    <tr>\n",
       "      <th>Random Forest</th>\n",
       "      <td>0.811613</td>\n",
       "      <td>0.035940</td>\n",
       "      <td>0.189579</td>\n",
       "    </tr>\n",
       "    <tr>\n",
       "      <th>Linear Discriminant Analysis</th>\n",
       "      <td>0.648433</td>\n",
       "      <td>0.067072</td>\n",
       "      <td>0.258982</td>\n",
       "    </tr>\n",
       "    <tr>\n",
       "      <th>Boosting</th>\n",
       "      <td>0.812940</td>\n",
       "      <td>0.035687</td>\n",
       "      <td>0.188910</td>\n",
       "    </tr>\n",
       "  </tbody>\n",
       "</table>\n",
       "</div>"
      ],
      "text/plain": [
       "                                  OSR2       MAE      RMSE\n",
       "Blending                      0.852073  0.443549  0.518969\n",
       "Blending without LR           0.829047  0.450769  0.557901\n",
       "Linear Regression             0.670838  0.185474  0.250594\n",
       "CART with CV                  0.798346  0.038471  0.196141\n",
       "Random Forest                 0.811613  0.035940  0.189579\n",
       "Linear Discriminant Analysis  0.648433  0.067072  0.258982\n",
       "Boosting                      0.812940  0.035687  0.188910"
      ]
     },
     "execution_count": 52,
     "metadata": {},
     "output_type": "execute_result"
    }
   ],
   "source": [
    "print('Test Set')\n",
    "#Create Comparison Table\n",
    "comparison_data = {\n",
    "                   'Blending':[blend_OSR2,blend_MAE,blend_RMSE],\n",
    "                   'Blending without LR':[blend_OSR2_1,blend_MAE_1,blend_RMSE_1],\n",
    "                   'Linear Regression':[sm_OSR2_test,sm_MAE_test,sm_RMSE_test],\n",
    "                   'CART with CV':[cart_OSR2_test,cart_MAE_test,cart_RMSE_test],\n",
    "                   'Random Forest':[rf_OSR2_test,rf_MAE_test,rf_RMSE_test],\n",
    "                   'Linear Discriminant Analysis':[lda_OSR2_test,lda_MAE_test,lda_RMSE_test],\n",
    "                   'Boosting':[boosting_OSR2_test,boosting_MAE_test, boosting_RMSE_test]\n",
    "                   }\n",
    "\n",
    "comparison_table = pd.DataFrame(data=comparison_data, index=['OSR2', 'MAE', 'RMSE']).transpose()\n",
    "comparison_table.style.set_properties(**{'font-size': '12pt',}).set_table_styles([{'selector': 'th', 'props': [('font-size', '10pt')]}])\n",
    "comparison_table"
   ]
  },
  {
   "cell_type": "code",
   "execution_count": null,
   "id": "e0368971",
   "metadata": {
    "id": "e0368971"
   },
   "outputs": [],
   "source": []
  },
  {
   "cell_type": "code",
   "execution_count": null,
   "id": "198f7ae5",
   "metadata": {},
   "outputs": [],
   "source": []
  }
 ],
 "metadata": {
  "colab": {
   "provenance": []
  },
  "kernelspec": {
   "display_name": "Python 3",
   "language": "python",
   "name": "python3"
  },
  "language_info": {
   "codemirror_mode": {
    "name": "ipython",
    "version": 3
   },
   "file_extension": ".py",
   "mimetype": "text/x-python",
   "name": "python",
   "nbconvert_exporter": "python",
   "pygments_lexer": "ipython3",
   "version": "3.8.8"
  }
 },
 "nbformat": 4,
 "nbformat_minor": 5
}
