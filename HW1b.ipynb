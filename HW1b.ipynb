{
 "cells": [
  {
   "cell_type": "code",
   "execution_count": 1,
   "id": "08116c92",
   "metadata": {},
   "outputs": [],
   "source": [
    "import numpy as np\n",
    "import pandas as pd\n",
    "import matplotlib as plt\n",
    "\n",
    "%matplotlib inline"
   ]
  },
  {
   "cell_type": "code",
   "execution_count": 2,
   "id": "b5b60362",
   "metadata": {},
   "outputs": [
    {
     "name": "stdout",
     "output_type": "stream",
     "text": [
      "<class 'pandas.core.frame.DataFrame'>\n",
      "RangeIndex: 174 entries, 0 to 173\n",
      "Data columns (total 9 columns):\n",
      " #   Column         Non-Null Count  Dtype  \n",
      "---  ------         --------------  -----  \n",
      " 0   MonthNumeric   174 non-null    int64  \n",
      " 1   MonthFactor    174 non-null    object \n",
      " 2   Year           174 non-null    int64  \n",
      " 3   CamrySales     174 non-null    int64  \n",
      " 4   Unemployment   174 non-null    float64\n",
      " 5   CamryQueries   174 non-null    int64  \n",
      " 6   CPIAll         174 non-null    float64\n",
      " 7   CPIEnergy      174 non-null    float64\n",
      " 8   MilesTraveled  174 non-null    int64  \n",
      "dtypes: float64(3), int64(5), object(1)\n",
      "memory usage: 12.4+ KB\n"
     ]
    }
   ],
   "source": [
    "camry = pd.read_csv('Camry_242_Spring2023.csv')\n",
    "camry.info()"
   ]
  },
  {
   "cell_type": "code",
   "execution_count": 3,
   "id": "23915eb4",
   "metadata": {},
   "outputs": [
    {
     "data": {
      "text/plain": [
       "(132, 24, 18)"
      ]
     },
     "execution_count": 3,
     "metadata": {},
     "output_type": "execute_result"
    }
   ],
   "source": [
    "camry_train = camry[camry['Year'] <= 2018]\n",
    "camry_testA = camry[(camry['Year'] >= 2019) & (camry['Year'] <= 2020)]\n",
    "camry_testB = camry[camry['Year'] >= 2021]\n",
    "\n",
    "len(camry_train), len(camry_testA), len(camry_testB)"
   ]
  },
  {
   "cell_type": "code",
   "execution_count": 4,
   "id": "b3fc01c3",
   "metadata": {},
   "outputs": [
    {
     "name": "stdout",
     "output_type": "stream",
     "text": [
      "                            OLS Regression Results                            \n",
      "==============================================================================\n",
      "Dep. Variable:             CamrySales   R-squared:                       0.511\n",
      "Model:                            OLS   Adj. R-squared:                  0.443\n",
      "Method:                 Least Squares   F-statistic:                     7.499\n",
      "Date:                Tue, 31 Jan 2023   Prob (F-statistic):           9.58e-12\n",
      "Time:                        13:44:24   Log-Likelihood:                -1303.3\n",
      "No. Observations:                 132   AIC:                             2641.\n",
      "Df Residuals:                     115   BIC:                             2690.\n",
      "Df Model:                          16                                         \n",
      "Covariance Type:            nonrobust                                         \n",
      "============================================================================================\n",
      "                               coef    std err          t      P>|t|      [0.025      0.975]\n",
      "--------------------------------------------------------------------------------------------\n",
      "Intercept                 5.254e+04   4.45e+04      1.181      0.240   -3.56e+04    1.41e+05\n",
      "MonthFactor[T.August]     6371.0615   2239.844      2.844      0.005    1934.361    1.08e+04\n",
      "MonthFactor[T.Decemeber]   -21.2798   2189.387     -0.010      0.992   -4358.034    4315.475\n",
      "MonthFactor[T.February]  -4070.3267   2160.889     -1.884      0.062   -8350.632     209.979\n",
      "MonthFactor[T.January]   -8454.2808   2157.947     -3.918      0.000   -1.27e+04   -4179.803\n",
      "MonthFactor[T.July]       2059.1122   2231.530      0.923      0.358   -2361.119    6479.344\n",
      "MonthFactor[T.June]       -152.1656   2188.230     -0.070      0.945   -4486.628    4182.297\n",
      "MonthFactor[T.March]      4295.9759   2170.102      1.980      0.050      -2.578    8594.530\n",
      "MonthFactor[T.May]        4123.4444   2170.839      1.899      0.060    -176.571    8423.459\n",
      "MonthFactor[T.November]  -5524.5836   2181.121     -2.533      0.013   -9844.965   -1204.203\n",
      "MonthFactor[T.October]   -3901.8940   2158.363     -1.808      0.073   -8177.196     373.408\n",
      "MonthFactor[T.Septeber]  -2473.1502   2167.783     -1.141      0.256   -6767.111    1820.811\n",
      "Unemployment             -2025.7883    450.769     -4.494      0.000   -2918.674   -1132.903\n",
      "CamryQueries              -137.0903     97.393     -1.408      0.162    -330.006      55.826\n",
      "CPIAll                     -59.7538    107.810     -0.554      0.580    -273.304     153.796\n",
      "CPIEnergy                   73.8824     29.611      2.495      0.014      15.229     132.536\n",
      "MilesTraveled               -0.0038      0.178     -0.021      0.983      -0.357       0.349\n",
      "==============================================================================\n",
      "Omnibus:                       15.106   Durbin-Watson:                   1.139\n",
      "Prob(Omnibus):                  0.001   Jarque-Bera (JB):               41.116\n",
      "Skew:                           0.313   Prob(JB):                     1.18e-09\n",
      "Kurtosis:                       5.662   Cond. No.                     2.59e+07\n",
      "==============================================================================\n",
      "\n",
      "Notes:\n",
      "[1] Standard Errors assume that the covariance matrix of the errors is correctly specified.\n",
      "[2] The condition number is large, 2.59e+07. This might indicate that there are\n",
      "strong multicollinearity or other numerical problems.\n"
     ]
    }
   ],
   "source": [
    "import statsmodels.formula.api as smf\n",
    "\n",
    "# Simple regression using new data, not yet incorporating the Winery variable\n",
    "modOld = smf.ols(formula='CamrySales ~ MonthFactor + Unemployment + CamryQueries + CPIAll + CPIEnergy + MilesTraveled',\n",
    "                 data=camry_train).fit()\n",
    "print(modOld.summary())"
   ]
  },
  {
   "cell_type": "code",
   "execution_count": 5,
   "id": "969b2541",
   "metadata": {},
   "outputs": [],
   "source": [
    "import matplotlib.pyplot as plt\n",
    "def coefplot(results):\n",
    "    '''\n",
    "    Takes in results of OLS model and returns a plot of \n",
    "    the coefficients with 95% confidence intervals.\n",
    "    \n",
    "    Removes intercept, so if uncentered will return error.\n",
    "    '''\n",
    "    # Create dataframe of results summary \n",
    "    coef_df = pd.DataFrame(results.summary().tables[1].data)\n",
    "    \n",
    "    # Add column names\n",
    "    coef_df.columns = coef_df.iloc[0]\n",
    "\n",
    "    # Drop the extra row with column labels\n",
    "    coef_df=coef_df.drop(0)\n",
    "\n",
    "    # Set index to variable names \n",
    "    coef_df = coef_df.set_index(coef_df.columns[0])\n",
    "\n",
    "    # Change datatype from object to float\n",
    "    coef_df = coef_df.astype(float)\n",
    "\n",
    "    # Get errors; (coef - lower bound of conf interval)\n",
    "    errors = coef_df['coef'] - coef_df['[0.025']\n",
    "    \n",
    "    # Append errors column to dataframe\n",
    "    coef_df['errors'] = errors\n",
    "\n",
    "    # Drop the constant for plotting\n",
    "    coef_df = coef_df.drop(['const'])\n",
    "\n",
    "    # Sort values by coef ascending\n",
    "    coef_df = coef_df.sort_values(by=['coef'])\n",
    "\n",
    "    ### Plot Coefficients ###\n",
    "\n",
    "    # x-labels\n",
    "    variables = list(coef_df.index.values)\n",
    "    \n",
    "    # Add variables column to dataframe\n",
    "    coef_df['variables'] = variables\n",
    "    \n",
    "    # Set sns plot style back to 'poster'\n",
    "    # This will make bars wide on plot\n",
    "    sns.set_context(\"poster\")\n",
    "\n",
    "    # Define figure, axes, and plot\n",
    "    fig, ax = plt.subplots(figsize=(8, 5))\n",
    "    \n",
    "    # Error bars for 95% confidence interval\n",
    "    # Can increase capsize to add whiskers\n",
    "    coef_df.plot(x='variables', y='coef', kind='bar',\n",
    "                 ax=ax, color='none', fontsize=22, \n",
    "                 ecolor='steelblue',capsize=0,\n",
    "                 yerr='errors', legend=False)\n",
    "    \n",
    "    # Set title & labels\n",
    "    plt.title('Coefficients of Features w/ 95% Confidence Intervals',fontsize=30)\n",
    "    ax.set_ylabel('Coefficients',fontsize=22)\n",
    "    ax.set_xlabel('',fontsize=22)\n",
    "    \n",
    "    # Coefficients\n",
    "    ax.scatter(x=np.arange(coef_df.shape[0]), \n",
    "               marker='o', s=80, \n",
    "               y=coef_df['coef'], color='steelblue')\n",
    "    \n",
    "    # Line to define zero on the y-axis\n",
    "    ax.axhline(y=0, linestyle='--', color='red', linewidth=1)\n",
    "    \n",
    "    return plt.show()"
   ]
  },
  {
   "cell_type": "code",
   "execution_count": 6,
   "id": "5720d85b",
   "metadata": {},
   "outputs": [],
   "source": [
    "# compute out-of-sample R-squared using the test set\n",
    "def OSR2(model, df_train, df_test, dependent_var):   \n",
    "    y_test = df_test[dependent_var]\n",
    "    y_pred = model.predict(df_test)\n",
    "    SSE = np.sum((y_test - y_pred)**2)\n",
    "    SST = np.sum((y_test - np.mean(df_train[dependent_var]))**2)    \n",
    "    return 1 - SSE/SST"
   ]
  },
  {
   "cell_type": "code",
   "execution_count": 7,
   "id": "1be83e00",
   "metadata": {},
   "outputs": [
    {
     "name": "stdout",
     "output_type": "stream",
     "text": [
      "0.45069736412770733\n",
      "-0.15909607101438872\n"
     ]
    }
   ],
   "source": [
    "# compute the out-of-sample R squared\n",
    "print(OSR2(modOld,camry_train, camry_testA, 'CamrySales'))\n",
    "print(OSR2(modOld,camry_train, camry_testB, 'CamrySales'))"
   ]
  },
  {
   "cell_type": "code",
   "execution_count": null,
   "id": "8c2a3f4b",
   "metadata": {},
   "outputs": [],
   "source": []
  },
  {
   "cell_type": "code",
   "execution_count": null,
   "id": "8afb7d9c",
   "metadata": {},
   "outputs": [],
   "source": []
  },
  {
   "cell_type": "code",
   "execution_count": null,
   "id": "a72380e9",
   "metadata": {},
   "outputs": [],
   "source": []
  },
  {
   "cell_type": "code",
   "execution_count": null,
   "id": "e977bcc3",
   "metadata": {},
   "outputs": [],
   "source": []
  },
  {
   "cell_type": "code",
   "execution_count": null,
   "id": "76cd55d7",
   "metadata": {},
   "outputs": [],
   "source": []
  },
  {
   "cell_type": "code",
   "execution_count": null,
   "id": "81ac1f21",
   "metadata": {},
   "outputs": [],
   "source": []
  }
 ],
 "metadata": {
  "kernelspec": {
   "display_name": "Python 3",
   "language": "python",
   "name": "python3"
  },
  "language_info": {
   "codemirror_mode": {
    "name": "ipython",
    "version": 3
   },
   "file_extension": ".py",
   "mimetype": "text/x-python",
   "name": "python",
   "nbconvert_exporter": "python",
   "pygments_lexer": "ipython3",
   "version": "3.8.8"
  }
 },
 "nbformat": 4,
 "nbformat_minor": 5
}
