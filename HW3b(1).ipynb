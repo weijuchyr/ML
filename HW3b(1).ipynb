{
 "cells": [
  {
   "cell_type": "code",
   "execution_count": 1,
   "id": "4bf77c10",
   "metadata": {},
   "outputs": [],
   "source": [
    "import numpy as np\n",
    "import pandas as pd\n",
    "import matplotlib as plt\n",
    "\n",
    "%matplotlib inline"
   ]
  },
  {
   "cell_type": "code",
   "execution_count": 2,
   "id": "9c1fb66d",
   "metadata": {},
   "outputs": [],
   "source": [
    "yelp_train = pd.read_csv('yelp242_train.csv')\n",
    "yelp_test = pd.read_csv('yelp242_test.csv')\n",
    "yelp_train['stars'] = yelp_train['stars']\n",
    "yelp_test['stars'] = yelp_test['stars']\n",
    "#yelp_train.info()"
   ]
  },
  {
   "cell_type": "markdown",
   "id": "48f3a9ce",
   "metadata": {},
   "source": [
    "## Linear Regression Model"
   ]
  },
  {
   "cell_type": "code",
   "execution_count": 3,
   "id": "361f95d2",
   "metadata": {},
   "outputs": [
    {
     "name": "stdout",
     "output_type": "stream",
     "text": [
      "                            OLS Regression Results                            \n",
      "==============================================================================\n",
      "Dep. Variable:                  stars   R-squared:                       0.176\n",
      "Model:                            OLS   Adj. R-squared:                  0.172\n",
      "Method:                 Least Squares   F-statistic:                     53.24\n",
      "Date:                Wed, 01 Mar 2023   Prob (F-statistic):          2.48e-239\n",
      "Time:                        16:17:32   Log-Likelihood:                -7305.6\n",
      "No. Observations:                6272   AIC:                         1.466e+04\n",
      "Df Residuals:                    6246   BIC:                         1.484e+04\n",
      "Df Model:                          25                                         \n",
      "Covariance Type:            nonrobust                                         \n",
      "============================================================================================================================================\n",
      "                                                                               coef    std err          t      P>|t|      [0.025      0.975]\n",
      "--------------------------------------------------------------------------------------------------------------------------------------------\n",
      "Intercept                                                                    3.3541      0.040     84.809      0.000       3.277       3.432\n",
      "C(GoodForKids, Treatment(reference='(Missing)'))[T.FALSE]                   -0.0374      0.046     -0.810      0.418      -0.128       0.053\n",
      "C(GoodForKids, Treatment(reference='(Missing)'))[T.TRUE]                    -0.1527      0.036     -4.286      0.000      -0.222      -0.083\n",
      "C(Alcohol, Treatment(reference='(Missing)'))[T.'beer_and_wine']              0.2255      0.048      4.736      0.000       0.132       0.319\n",
      "C(Alcohol, Treatment(reference='(Missing)'))[T.'full_bar']                   0.1352      0.044      3.083      0.002       0.049       0.221\n",
      "C(Alcohol, Treatment(reference='(Missing)'))[T.'none']                       0.1196      0.040      3.023      0.003       0.042       0.197\n",
      "C(BusinessAcceptsCreditCards, Treatment(reference='(Missing)'))[T.FALSE]     0.6037      0.092      6.548      0.000       0.423       0.784\n",
      "C(BusinessAcceptsCreditCards, Treatment(reference='(Missing)'))[T.TRUE]      0.0819      0.047      1.752      0.080      -0.010       0.174\n",
      "C(WiFi, Treatment(reference='(Missing)'))[T.'free']                          0.0856      0.035      2.457      0.014       0.017       0.154\n",
      "C(WiFi, Treatment(reference='(Missing)'))[T.'no']                            0.0802      0.034      2.393      0.017       0.014       0.146\n",
      "C(WiFi, Treatment(reference='(Missing)'))[T.'paid']                         -0.2286      0.106     -2.157      0.031      -0.436      -0.021\n",
      "C(BikeParking, Treatment(reference='(Missing)'))[T.FALSE]                   -0.1542      0.032     -4.778      0.000      -0.218      -0.091\n",
      "C(BikeParking, Treatment(reference='(Missing)'))[T.TRUE]                    -0.0814      0.029     -2.815      0.005      -0.138      -0.025\n",
      "C(ByAppointmentOnly, Treatment(reference='(Missing)'))[T.FALSE]              0.1250      0.034      3.636      0.000       0.058       0.192\n",
      "C(ByAppointmentOnly, Treatment(reference='(Missing)'))[T.TRUE]               0.2666      0.108      2.466      0.014       0.055       0.479\n",
      "C(WheelechairAccessible, Treatment(reference='(Missing)'))[T.FALSE]          0.7184      0.088      8.168      0.000       0.546       0.891\n",
      "C(WheelechairAccessible, Treatment(reference='(Missing)'))[T.TRUE]           0.3566      0.028     12.878      0.000       0.302       0.411\n",
      "C(OutdoorSeating, Treatment(reference='(Missing)'))[T.FALSE]                -0.0652      0.040     -1.614      0.106      -0.144       0.014\n",
      "C(OutdoorSeating, Treatment(reference='(Missing)'))[T.TRUE]                  0.0315      0.043      0.727      0.467      -0.053       0.116\n",
      "C(RestaurantsReservations, Treatment(reference='(Missing)'))[T.FALSE]       -0.1930      0.041     -4.690      0.000      -0.274      -0.112\n",
      "C(RestaurantsReservations, Treatment(reference='(Missing)'))[T.TRUE]         0.0051      0.046      0.112      0.911      -0.085       0.095\n",
      "C(DogsAllowed, Treatment(reference='(Missing)'))[T.FALSE]                    0.2552      0.029      8.693      0.000       0.198       0.313\n",
      "C(DogsAllowed, Treatment(reference='(Missing)'))[T.TRUE]                     0.2251      0.054      4.163      0.000       0.119       0.331\n",
      "C(Caters, Treatment(reference='(Missing)'))[T.FALSE]                        -0.1221      0.030     -4.027      0.000      -0.182      -0.063\n",
      "C(Caters, Treatment(reference='(Missing)'))[T.TRUE]                          0.1196      0.033      3.653      0.000       0.055       0.184\n",
      "review_count                                                                 0.0001   2.83e-05      4.536      0.000    7.28e-05       0.000\n",
      "==============================================================================\n",
      "Omnibus:                      121.434   Durbin-Watson:                   2.003\n",
      "Prob(Omnibus):                  0.000   Jarque-Bera (JB):              128.275\n",
      "Skew:                          -0.350   Prob(JB):                     1.40e-28\n",
      "Kurtosis:                       3.013   Cond. No.                     4.99e+03\n",
      "==============================================================================\n",
      "\n",
      "Notes:\n",
      "[1] Standard Errors assume that the covariance matrix of the errors is correctly specified.\n",
      "[2] The condition number is large, 4.99e+03. This might indicate that there are\n",
      "strong multicollinearity or other numerical problems.\n"
     ]
    }
   ],
   "source": [
    "import statsmodels.formula.api as smf\n",
    "\n",
    "# Simple regression using new data, not yet incorporating the Winery variable\n",
    "mod = smf.ols(formula=\"stars ~ review_count +  C(GoodForKids, Treatment(reference='(Missing)')) + C(Alcohol, Treatment(reference='(Missing)')) + C(BusinessAcceptsCreditCards, Treatment(reference='(Missing)')) + C(WiFi, Treatment(reference='(Missing)')) + C(BikeParking, Treatment(reference='(Missing)')) + C(ByAppointmentOnly, Treatment(reference='(Missing)')) + C(WheelechairAccessible, Treatment(reference='(Missing)')) + C(OutdoorSeating, Treatment(reference='(Missing)')) + C(RestaurantsReservations, Treatment(reference='(Missing)')) + C(DogsAllowed, Treatment(reference='(Missing)')) + C(Caters, Treatment(reference='(Missing)'))\",\n",
    "                 data=yelp_train).fit()\n",
    "print(mod.summary())"
   ]
  },
  {
   "cell_type": "markdown",
   "id": "942cd86b",
   "metadata": {},
   "source": [
    "## OSR2"
   ]
  },
  {
   "cell_type": "code",
   "execution_count": 4,
   "id": "1d5ea7af",
   "metadata": {},
   "outputs": [],
   "source": [
    "# compute out-of-sample R-squared using the test set\n",
    "def OSR2(model, df_train, df_test, dependent_var):   \n",
    "    y_test = df_test[dependent_var]\n",
    "    y_pred = model.predict(df_test)\n",
    "    SSE = np.sum((y_test - y_pred)**2)\n",
    "    SST = np.sum((y_test - np.mean(df_train[dependent_var]))**2)    \n",
    "    return 1 - SSE/SST"
   ]
  },
  {
   "cell_type": "code",
   "execution_count": 5,
   "id": "f405a296",
   "metadata": {},
   "outputs": [
    {
     "name": "stdout",
     "output_type": "stream",
     "text": [
      "0.14346594233013754\n"
     ]
    }
   ],
   "source": [
    "print(OSR2(mod, yelp_train, yelp_test, 'stars'))"
   ]
  },
  {
   "cell_type": "markdown",
   "id": "d775ed4f",
   "metadata": {},
   "source": [
    "## MAE (mean absolute error)"
   ]
  },
  {
   "cell_type": "code",
   "execution_count": 6,
   "id": "09b67726",
   "metadata": {},
   "outputs": [
    {
     "name": "stdout",
     "output_type": "stream",
     "text": [
      "0.6327833639990151\n"
     ]
    }
   ],
   "source": [
    "from sklearn.linear_model import LinearRegression\n",
    "from sklearn.metrics import mean_absolute_error\n",
    "from sklearn.preprocessing import LabelEncoder\n",
    "\n",
    "\n",
    "y_train = yelp_train['stars']\n",
    "y_test = yelp_test['stars']\n",
    "X_train = yelp_train.drop(['stars'], axis=1)\n",
    "X_test = yelp_test.drop(['stars'], axis=1)\n",
    "\n",
    "\n",
    "\n",
    "labelencoder = LabelEncoder()\n",
    "\n",
    "X_train_enc = X_train.select_dtypes(include='object').apply(labelencoder.fit_transform)\n",
    "X_test_enc = X_test.select_dtypes(include='object').apply(labelencoder.fit_transform)\n",
    "\n",
    "X_train_new = pd.concat([X_train.drop(X_train_enc.columns, axis=1), X_train_enc], axis=1)\n",
    "X_test_new = pd.concat([X_test.drop(X_test_enc.columns, axis=1), X_test_enc], axis=1)\n",
    "\n",
    "\n",
    "\n",
    "lr_model = LinearRegression()\n",
    "lr_model.fit(X_train_new, y_train)\n",
    "lr_predictions = lr_model.predict(X_test_new)\n",
    "lr_mae = mean_absolute_error(y_test, lr_predictions)\n",
    "print(lr_mae)"
   ]
  },
  {
   "cell_type": "markdown",
   "id": "454a146c",
   "metadata": {},
   "source": [
    "## Predictions of fourOrAbove"
   ]
  },
  {
   "cell_type": "code",
   "execution_count": 7,
   "id": "cb6b66d7",
   "metadata": {},
   "outputs": [
    {
     "data": {
      "text/plain": [
       "array([0, 0, 0, ..., 0, 0, 0])"
      ]
     },
     "execution_count": 7,
     "metadata": {},
     "output_type": "execute_result"
    }
   ],
   "source": [
    "def convert_to_binary(predictions):\n",
    "    binary_predictions = np.zeros(predictions.shape)\n",
    "    binary_predictions[predictions >= 4] = 1\n",
    "    return binary_predictions.astype(int)\n",
    "\n",
    "lr_pred = mod.predict(X_test)\n",
    "convert_to_binary(lr_pred)"
   ]
  },
  {
   "cell_type": "code",
   "execution_count": 8,
   "id": "db1c958b",
   "metadata": {},
   "outputs": [
    {
     "name": "stdout",
     "output_type": "stream",
     "text": [
      "2389\n",
      "299\n"
     ]
    }
   ],
   "source": [
    "count_of_zeros = sum(1 for i in convert_to_binary(lr_pred) if i == 0)\n",
    "print(count_of_zeros)\n",
    "\n",
    "count_of_ones = sum(1 for i in convert_to_binary(lr_pred) if i == 1)\n",
    "print(count_of_ones)"
   ]
  },
  {
   "cell_type": "code",
   "execution_count": 9,
   "id": "fd75b11a",
   "metadata": {},
   "outputs": [
    {
     "name": "stdout",
     "output_type": "stream",
     "text": [
      "Confusion Matrix : \n",
      " [[1453   67]\n",
      " [ 936  232]]\n",
      "Accuracy is: 0.6269\n",
      "TPR is: 0.1986\n",
      "FPR is: 0.0441\n"
     ]
    }
   ],
   "source": [
    "from sklearn.metrics import confusion_matrix\n",
    "\n",
    "y_test2 = convert_to_binary(y_test)\n",
    "y_pred = convert_to_binary(mod.predict(X_test))\n",
    "cm = confusion_matrix(y_test2, y_pred)\n",
    "\n",
    "print (\"Confusion Matrix : \\n\", cm) \n",
    "\n",
    "acc = (cm.ravel()[0]+cm.ravel()[3])/sum(cm.ravel())\n",
    "TPR = cm.ravel()[3]/(cm.ravel()[3]+cm.ravel()[2])\n",
    "FPR = cm.ravel()[1]/(cm.ravel()[1]+cm.ravel()[0])\n",
    "print('Accuracy is: %.4f' %acc)\n",
    "print('TPR is: %.4f' % TPR)\n",
    "print('FPR is: %.4f' % FPR)"
   ]
  },
  {
   "cell_type": "code",
   "execution_count": null,
   "id": "73ccabf5",
   "metadata": {},
   "outputs": [],
   "source": []
  },
  {
   "cell_type": "code",
   "execution_count": null,
   "id": "85d6dbb3",
   "metadata": {},
   "outputs": [],
   "source": []
  },
  {
   "cell_type": "code",
   "execution_count": null,
   "id": "7297d810",
   "metadata": {},
   "outputs": [],
   "source": []
  }
 ],
 "metadata": {
  "kernelspec": {
   "display_name": "Python 3",
   "language": "python",
   "name": "python3"
  },
  "language_info": {
   "codemirror_mode": {
    "name": "ipython",
    "version": 3
   },
   "file_extension": ".py",
   "mimetype": "text/x-python",
   "name": "python",
   "nbconvert_exporter": "python",
   "pygments_lexer": "ipython3",
   "version": "3.8.8"
  }
 },
 "nbformat": 4,
 "nbformat_minor": 5
}
