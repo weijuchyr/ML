{
 "cells": [
  {
   "cell_type": "code",
   "execution_count": 1,
   "id": "43c652fb",
   "metadata": {},
   "outputs": [],
   "source": [
    "import numpy as np\n",
    "import pandas as pd\n",
    "import matplotlib as plt\n",
    "\n",
    "%matplotlib inline"
   ]
  },
  {
   "cell_type": "code",
   "execution_count": 2,
   "id": "72edf3ae",
   "metadata": {},
   "outputs": [
    {
     "name": "stdout",
     "output_type": "stream",
     "text": [
      "<class 'pandas.core.frame.DataFrame'>\n",
      "RangeIndex: 174 entries, 0 to 173\n",
      "Data columns (total 9 columns):\n",
      " #   Column         Non-Null Count  Dtype  \n",
      "---  ------         --------------  -----  \n",
      " 0   MonthNumeric   174 non-null    int64  \n",
      " 1   MonthFactor    174 non-null    object \n",
      " 2   Year           174 non-null    int64  \n",
      " 3   CamrySales     174 non-null    int64  \n",
      " 4   Unemployment   174 non-null    float64\n",
      " 5   CamryQueries   174 non-null    int64  \n",
      " 6   CPIAll         174 non-null    float64\n",
      " 7   CPIEnergy      174 non-null    float64\n",
      " 8   MilesTraveled  174 non-null    int64  \n",
      "dtypes: float64(3), int64(5), object(1)\n",
      "memory usage: 12.4+ KB\n"
     ]
    }
   ],
   "source": [
    "camry = pd.read_csv('Camry_242_Spring2023.csv')\n",
    "camry.info()"
   ]
  },
  {
   "cell_type": "code",
   "execution_count": 3,
   "id": "6565231b",
   "metadata": {},
   "outputs": [
    {
     "data": {
      "text/plain": [
       "(132, 24, 18)"
      ]
     },
     "execution_count": 3,
     "metadata": {},
     "output_type": "execute_result"
    }
   ],
   "source": [
    "camry_train = camry[camry['Year'] <= 2018]\n",
    "camry_testA = camry[(camry['Year'] >= 2019) & (camry['Year'] <= 2020)]\n",
    "camry_testB = camry[camry['Year'] >= 2021]\n",
    "\n",
    "len(camry_train), len(camry_testA), len(camry_testB)"
   ]
  },
  {
   "cell_type": "code",
   "execution_count": 8,
   "id": "b98864f8",
   "metadata": {},
   "outputs": [
    {
     "data": {
      "text/html": [
       "<div>\n",
       "<style scoped>\n",
       "    .dataframe tbody tr th:only-of-type {\n",
       "        vertical-align: middle;\n",
       "    }\n",
       "\n",
       "    .dataframe tbody tr th {\n",
       "        vertical-align: top;\n",
       "    }\n",
       "\n",
       "    .dataframe thead th {\n",
       "        text-align: right;\n",
       "    }\n",
       "</style>\n",
       "<table border=\"1\" class=\"dataframe\">\n",
       "  <thead>\n",
       "    <tr style=\"text-align: right;\">\n",
       "      <th></th>\n",
       "      <th>MonthNumeric</th>\n",
       "      <th>MonthFactor</th>\n",
       "      <th>Year</th>\n",
       "      <th>CamrySales</th>\n",
       "      <th>Unemployment</th>\n",
       "      <th>CamryQueries</th>\n",
       "      <th>CPIAll</th>\n",
       "      <th>CPIEnergy</th>\n",
       "      <th>MilesTraveled</th>\n",
       "    </tr>\n",
       "  </thead>\n",
       "  <tbody>\n",
       "    <tr>\n",
       "      <th>120</th>\n",
       "      <td>1</td>\n",
       "      <td>January</td>\n",
       "      <td>2018</td>\n",
       "      <td>24638</td>\n",
       "      <td>4.0</td>\n",
       "      <td>81</td>\n",
       "      <td>248.743</td>\n",
       "      <td>216.872</td>\n",
       "      <td>268361</td>\n",
       "    </tr>\n",
       "  </tbody>\n",
       "</table>\n",
       "</div>"
      ],
      "text/plain": [
       "     MonthNumeric MonthFactor  Year  CamrySales  Unemployment  CamryQueries  \\\n",
       "120             1     January  2018       24638           4.0            81   \n",
       "\n",
       "      CPIAll  CPIEnergy  MilesTraveled  \n",
       "120  248.743    216.872         268361  "
      ]
     },
     "execution_count": 8,
     "metadata": {},
     "output_type": "execute_result"
    }
   ],
   "source": [
    "camry_train = camry[(camry['Year'] == 2018) & (camry['MonthNumeric'] == 1)]\n",
    "\n",
    "camry_train.head(1)"
   ]
  },
  {
   "cell_type": "code",
   "execution_count": 4,
   "id": "ec83f3f3",
   "metadata": {},
   "outputs": [
    {
     "name": "stdout",
     "output_type": "stream",
     "text": [
      "                            OLS Regression Results                            \n",
      "==============================================================================\n",
      "Dep. Variable:             CamrySales   R-squared:                       0.158\n",
      "Model:                            OLS   Adj. R-squared:                  0.124\n",
      "Method:                 Least Squares   F-statistic:                     4.722\n",
      "Date:                Mon, 30 Jan 2023   Prob (F-statistic):           0.000549\n",
      "Time:                        22:28:31   Log-Likelihood:                -1339.1\n",
      "No. Observations:                 132   AIC:                             2690.\n",
      "Df Residuals:                     126   BIC:                             2707.\n",
      "Df Model:                           5                                         \n",
      "Covariance Type:            nonrobust                                         \n",
      "=================================================================================\n",
      "                    coef    std err          t      P>|t|      [0.025      0.975]\n",
      "---------------------------------------------------------------------------------\n",
      "const          1.056e+05   5.21e+04      2.026      0.045    2474.995    2.09e+05\n",
      "Unemployment  -1703.2073    559.555     -3.044      0.003   -2810.550    -595.865\n",
      "CamryQueries    123.3247    101.466      1.215      0.226     -77.473     324.122\n",
      "CPIAll         -223.3683    127.804     -1.748      0.083    -476.288      29.551\n",
      "CPIEnergy        61.4988     36.639      1.679      0.096     -11.009     134.007\n",
      "MilesTraveled    -0.1233      0.216     -0.570      0.569      -0.551       0.305\n",
      "==============================================================================\n",
      "Omnibus:                       10.830   Durbin-Watson:                   1.369\n",
      "Prob(Omnibus):                  0.004   Jarque-Bera (JB):               14.387\n",
      "Skew:                           0.466   Prob(JB):                     0.000751\n",
      "Kurtosis:                       4.322   Cond. No.                     2.42e+07\n",
      "==============================================================================\n",
      "\n",
      "Notes:\n",
      "[1] Standard Errors assume that the covariance matrix of the errors is correctly specified.\n",
      "[2] The condition number is large, 2.42e+07. This might indicate that there are\n",
      "strong multicollinearity or other numerical problems.\n"
     ]
    }
   ],
   "source": [
    "# Import the library that contains all the functions/modules related to the regression model\n",
    "import statsmodels.api as sm\n",
    "\n",
    "# Choose the features to be used\n",
    "cols = ['Unemployment', 'CamryQueries', 'CPIAll', 'CPIEnergy', 'MilesTraveled']\n",
    "X_train = camry_train[cols]\n",
    "y_train = camry_train['CamrySales']\n",
    "\n",
    "# We must add an intercept as the standard model doesn't automatically fit one\n",
    "X_train = sm.add_constant(X_train)\n",
    "\n",
    "# Fit the data to the model\n",
    "model1 = sm.OLS(y_train, X_train).fit() #ordinary least square\n",
    "print(model1.summary())"
   ]
  },
  {
   "cell_type": "code",
   "execution_count": 5,
   "id": "806cd367",
   "metadata": {},
   "outputs": [],
   "source": [
    "import matplotlib.pyplot as plt\n",
    "def coefplot(results):\n",
    "    '''\n",
    "    Takes in results of OLS model and returns a plot of \n",
    "    the coefficients with 95% confidence intervals.\n",
    "    \n",
    "    Removes intercept, so if uncentered will return error.\n",
    "    '''\n",
    "    # Create dataframe of results summary \n",
    "    coef_df = pd.DataFrame(results.summary().tables[1].data)\n",
    "    \n",
    "    # Add column names\n",
    "    coef_df.columns = coef_df.iloc[0]\n",
    "\n",
    "    # Drop the extra row with column labels\n",
    "    coef_df=coef_df.drop(0)\n",
    "\n",
    "    # Set index to variable names \n",
    "    coef_df = coef_df.set_index(coef_df.columns[0])\n",
    "\n",
    "    # Change datatype from object to float\n",
    "    coef_df = coef_df.astype(float)\n",
    "\n",
    "    # Get errors; (coef - lower bound of conf interval)\n",
    "    errors = coef_df['coef'] - coef_df['[0.025']\n",
    "    \n",
    "    # Append errors column to dataframe\n",
    "    coef_df['errors'] = errors\n",
    "\n",
    "    # Drop the constant for plotting\n",
    "    coef_df = coef_df.drop(['const'])\n",
    "\n",
    "    # Sort values by coef ascending\n",
    "    coef_df = coef_df.sort_values(by=['coef'])\n",
    "\n",
    "    ### Plot Coefficients ###\n",
    "\n",
    "    # x-labels\n",
    "    variables = list(coef_df.index.values)\n",
    "    \n",
    "    # Add variables column to dataframe\n",
    "    coef_df['variables'] = variables\n",
    "    \n",
    "    # Set sns plot style back to 'poster'\n",
    "    # This will make bars wide on plot\n",
    "    sns.set_context(\"poster\")\n",
    "\n",
    "    # Define figure, axes, and plot\n",
    "    fig, ax = plt.subplots(figsize=(8, 5))\n",
    "    \n",
    "    # Error bars for 95% confidence interval\n",
    "    # Can increase capsize to add whiskers\n",
    "    coef_df.plot(x='variables', y='coef', kind='bar',\n",
    "                 ax=ax, color='none', fontsize=22, \n",
    "                 ecolor='steelblue',capsize=0,\n",
    "                 yerr='errors', legend=False)\n",
    "    \n",
    "    # Set title & labels\n",
    "    plt.title('Coefficients of Features w/ 95% Confidence Intervals',fontsize=30)\n",
    "    ax.set_ylabel('Coefficients',fontsize=22)\n",
    "    ax.set_xlabel('',fontsize=22)\n",
    "    \n",
    "    # Coefficients\n",
    "    ax.scatter(x=np.arange(coef_df.shape[0]), \n",
    "               marker='o', s=80, \n",
    "               y=coef_df['coef'], color='steelblue')\n",
    "    \n",
    "    # Line to define zero on the y-axis\n",
    "    ax.axhline(y=0, linestyle='--', color='red', linewidth=1)\n",
    "    \n",
    "    return plt.show()"
   ]
  },
  {
   "cell_type": "code",
   "execution_count": 6,
   "id": "ee95abd9",
   "metadata": {},
   "outputs": [
    {
     "name": "stdout",
     "output_type": "stream",
     "text": [
      "                            OLS Regression Results                            \n",
      "==============================================================================\n",
      "Dep. Variable:             CamrySales   R-squared:                       0.158\n",
      "Model:                            OLS   Adj. R-squared:                  0.124\n",
      "Method:                 Least Squares   F-statistic:                     4.722\n",
      "Date:                Mon, 30 Jan 2023   Prob (F-statistic):           0.000549\n",
      "Time:                        22:28:31   Log-Likelihood:                -1339.1\n",
      "No. Observations:                 132   AIC:                             2690.\n",
      "Df Residuals:                     126   BIC:                             2707.\n",
      "Df Model:                           5                                         \n",
      "Covariance Type:            nonrobust                                         \n",
      "=================================================================================\n",
      "                    coef    std err          t      P>|t|      [0.025      0.975]\n",
      "---------------------------------------------------------------------------------\n",
      "Intercept      1.056e+05   5.21e+04      2.026      0.045    2474.995    2.09e+05\n",
      "Unemployment  -1703.2073    559.555     -3.044      0.003   -2810.550    -595.865\n",
      "CamryQueries    123.3247    101.466      1.215      0.226     -77.473     324.122\n",
      "CPIAll         -223.3683    127.804     -1.748      0.083    -476.288      29.551\n",
      "CPIEnergy        61.4988     36.639      1.679      0.096     -11.009     134.007\n",
      "MilesTraveled    -0.1233      0.216     -0.570      0.569      -0.551       0.305\n",
      "==============================================================================\n",
      "Omnibus:                       10.830   Durbin-Watson:                   1.369\n",
      "Prob(Omnibus):                  0.004   Jarque-Bera (JB):               14.387\n",
      "Skew:                           0.466   Prob(JB):                     0.000751\n",
      "Kurtosis:                       4.322   Cond. No.                     2.42e+07\n",
      "==============================================================================\n",
      "\n",
      "Notes:\n",
      "[1] Standard Errors assume that the covariance matrix of the errors is correctly specified.\n",
      "[2] The condition number is large, 2.42e+07. This might indicate that there are\n",
      "strong multicollinearity or other numerical problems.\n"
     ]
    }
   ],
   "source": [
    "import statsmodels.formula.api as smf\n",
    "\n",
    "ols = smf.ols(formula='CamrySales ~ Unemployment + CamryQueries + CPIAll + CPIEnergy + MilesTraveled', \n",
    "                 data=camry_train)\n",
    "model1 =ols.fit()\n",
    "print(model1.summary())"
   ]
  },
  {
   "cell_type": "code",
   "execution_count": 7,
   "id": "83fb5587",
   "metadata": {},
   "outputs": [],
   "source": [
    "# compute out-of-sample R-squared using the test set\n",
    "def OSR2(model, df_train, df_test, dependent_var):   \n",
    "    y_test = df_test[dependent_var]\n",
    "    y_pred = model.predict(df_test)\n",
    "    SSE = np.sum((y_test - y_pred)**2)\n",
    "    SST = np.sum((y_test - np.mean(df_train[dependent_var]))**2)    \n",
    "    return 1 - SSE/SST"
   ]
  },
  {
   "cell_type": "code",
   "execution_count": 8,
   "id": "ca611b7b",
   "metadata": {},
   "outputs": [
    {
     "name": "stdout",
     "output_type": "stream",
     "text": [
      "0.5366480526882766\n",
      "0.29932807687232243\n"
     ]
    }
   ],
   "source": [
    "print(OSR2(model1, camry_train, camry_testA, 'CamrySales'))\n",
    "print(OSR2(model1, camry_train, camry_testB, 'CamrySales'))"
   ]
  },
  {
   "cell_type": "code",
   "execution_count": 9,
   "id": "acf9f766",
   "metadata": {},
   "outputs": [
    {
     "data": {
      "text/plain": [
       "Unemployment      4.140307\n",
       "CamryQueries      6.955649\n",
       "CPIAll            7.425610\n",
       "CPIEnergy         2.467946\n",
       "MilesTraveled    12.610832\n",
       "dtype: float64"
      ]
     },
     "execution_count": 9,
     "metadata": {},
     "output_type": "execute_result"
    }
   ],
   "source": [
    "# calculate Variance Inflation Factor for each explanatory variable\n",
    "from statsmodels.stats.outliers_influence import variance_inflation_factor\n",
    "\n",
    "# The dataframe passed to VIF must include the intercept term. We add it the same way we did before.\n",
    "def VIF(df, columns):\n",
    "    values = sm.add_constant(df[columns]).values\n",
    "    num_columns = len(columns)+1\n",
    "    vif = [variance_inflation_factor(values, i) for i in range(num_columns)]\n",
    "    return pd.Series(vif[1:], index=columns)\n",
    "\n",
    "cols = ['Unemployment', 'CamryQueries', 'CPIAll', 'CPIEnergy', 'MilesTraveled']\n",
    "VIF(camry_train, cols)"
   ]
  },
  {
   "cell_type": "code",
   "execution_count": 10,
   "id": "f9e70d02",
   "metadata": {},
   "outputs": [
    {
     "name": "stdout",
     "output_type": "stream",
     "text": [
      "                            OLS Regression Results                            \n",
      "==============================================================================\n",
      "Dep. Variable:             CamrySales   R-squared:                       0.156\n",
      "Model:                            OLS   Adj. R-squared:                  0.129\n",
      "Method:                 Least Squares   F-statistic:                     5.852\n",
      "Date:                Mon, 30 Jan 2023   Prob (F-statistic):           0.000235\n",
      "Time:                        22:28:31   Log-Likelihood:                -1339.3\n",
      "No. Observations:                 132   AIC:                             2689.\n",
      "Df Residuals:                     127   BIC:                             2703.\n",
      "Df Model:                           4                                         \n",
      "Covariance Type:            nonrobust                                         \n",
      "================================================================================\n",
      "                   coef    std err          t      P>|t|      [0.025      0.975]\n",
      "--------------------------------------------------------------------------------\n",
      "Intercept     7.902e+04   2.32e+04      3.400      0.001     3.3e+04    1.25e+05\n",
      "Unemployment -1536.4666    475.862     -3.229      0.002   -2478.112    -594.821\n",
      "CamryQueries   104.4718     95.677      1.092      0.277     -84.855     293.799\n",
      "CPIAll        -259.0928    111.110     -2.332      0.021    -478.960     -39.226\n",
      "CPIEnergy       77.2622     23.993      3.220      0.002      29.784     124.740\n",
      "==============================================================================\n",
      "Omnibus:                       10.674   Durbin-Watson:                   1.351\n",
      "Prob(Omnibus):                  0.005   Jarque-Bera (JB):               13.870\n",
      "Skew:                           0.470   Prob(JB):                     0.000973\n",
      "Kurtosis:                       4.280   Cond. No.                     1.38e+04\n",
      "==============================================================================\n",
      "\n",
      "Notes:\n",
      "[1] Standard Errors assume that the covariance matrix of the errors is correctly specified.\n",
      "[2] The condition number is large, 1.38e+04. This might indicate that there are\n",
      "strong multicollinearity or other numerical problems.\n"
     ]
    }
   ],
   "source": [
    "import statsmodels.formula.api as smf\n",
    "\n",
    "ols = smf.ols(formula='CamrySales ~ Unemployment + CamryQueries + CPIAll + CPIEnergy', \n",
    "                 data=camry_train)\n",
    "model1 =ols.fit()\n",
    "print(model1.summary())"
   ]
  },
  {
   "cell_type": "code",
   "execution_count": 11,
   "id": "581c27b7",
   "metadata": {},
   "outputs": [
    {
     "name": "stdout",
     "output_type": "stream",
     "text": [
      "                            OLS Regression Results                            \n",
      "==============================================================================\n",
      "Dep. Variable:             CamrySales   R-squared:                       0.139\n",
      "Model:                            OLS   Adj. R-squared:                  0.112\n",
      "Method:                 Least Squares   F-statistic:                     5.125\n",
      "Date:                Mon, 30 Jan 2023   Prob (F-statistic):           0.000734\n",
      "Time:                        22:28:31   Log-Likelihood:                -1340.6\n",
      "No. Observations:                 132   AIC:                             2691.\n",
      "Df Residuals:                     127   BIC:                             2706.\n",
      "Df Model:                           4                                         \n",
      "Covariance Type:            nonrobust                                         \n",
      "=================================================================================\n",
      "                    coef    std err          t      P>|t|      [0.025      0.975]\n",
      "---------------------------------------------------------------------------------\n",
      "Intercept      1.678e+05   3.69e+04      4.547      0.000    9.48e+04    2.41e+05\n",
      "Unemployment  -1949.7733    543.778     -3.586      0.000   -3025.812    -873.735\n",
      "CamryQueries    170.8620     98.128      1.741      0.084     -23.315     365.039\n",
      "CPIAll         -137.4767    117.947     -1.166      0.246    -370.873      95.919\n",
      "MilesTraveled    -0.3971      0.143     -2.777      0.006      -0.680      -0.114\n",
      "==============================================================================\n",
      "Omnibus:                        9.496   Durbin-Watson:                   1.382\n",
      "Prob(Omnibus):                  0.009   Jarque-Bera (JB):               11.969\n",
      "Skew:                           0.430   Prob(JB):                      0.00252\n",
      "Kurtosis:                       4.198   Cond. No.                     1.70e+07\n",
      "==============================================================================\n",
      "\n",
      "Notes:\n",
      "[1] Standard Errors assume that the covariance matrix of the errors is correctly specified.\n",
      "[2] The condition number is large, 1.7e+07. This might indicate that there are\n",
      "strong multicollinearity or other numerical problems.\n"
     ]
    }
   ],
   "source": [
    "import statsmodels.formula.api as smf\n",
    "\n",
    "ols = smf.ols(formula='CamrySales ~ Unemployment + CamryQueries + CPIAll + MilesTraveled', \n",
    "                 data=camry_train)\n",
    "model1 =ols.fit()\n",
    "print(model1.summary())"
   ]
  },
  {
   "cell_type": "code",
   "execution_count": 12,
   "id": "8344bf1d",
   "metadata": {},
   "outputs": [
    {
     "name": "stdout",
     "output_type": "stream",
     "text": [
      "                            OLS Regression Results                            \n",
      "==============================================================================\n",
      "Dep. Variable:             CamrySales   R-squared:                       0.137\n",
      "Model:                            OLS   Adj. R-squared:                  0.110\n",
      "Method:                 Least Squares   F-statistic:                     5.057\n",
      "Date:                Mon, 30 Jan 2023   Prob (F-statistic):           0.000817\n",
      "Time:                        22:28:31   Log-Likelihood:                -1340.7\n",
      "No. Observations:                 132   AIC:                             2691.\n",
      "Df Residuals:                     127   BIC:                             2706.\n",
      "Df Model:                           4                                         \n",
      "Covariance Type:            nonrobust                                         \n",
      "=================================================================================\n",
      "                    coef    std err          t      P>|t|      [0.025      0.975]\n",
      "---------------------------------------------------------------------------------\n",
      "Intercept       1.12e+05   5.24e+04      2.137      0.035    8264.868    2.16e+05\n",
      "Unemployment  -1799.1409    561.342     -3.205      0.002   -2909.936    -688.346\n",
      "CamryQueries     42.9379     91.171      0.471      0.638    -137.473     223.348\n",
      "CPIEnergy        35.8593     33.845      1.060      0.291     -31.113     102.832\n",
      "MilesTraveled    -0.3085      0.190     -1.624      0.107      -0.685       0.067\n",
      "==============================================================================\n",
      "Omnibus:                       14.210   Durbin-Watson:                   1.382\n",
      "Prob(Omnibus):                  0.001   Jarque-Bera (JB):               21.679\n",
      "Skew:                           0.543   Prob(JB):                     1.96e-05\n",
      "Kurtosis:                       4.661   Cond. No.                     2.41e+07\n",
      "==============================================================================\n",
      "\n",
      "Notes:\n",
      "[1] Standard Errors assume that the covariance matrix of the errors is correctly specified.\n",
      "[2] The condition number is large, 2.41e+07. This might indicate that there are\n",
      "strong multicollinearity or other numerical problems.\n"
     ]
    }
   ],
   "source": [
    "import statsmodels.formula.api as smf\n",
    "\n",
    "ols = smf.ols(formula='CamrySales ~ Unemployment + CamryQueries + CPIEnergy + MilesTraveled', \n",
    "                 data=camry_train)\n",
    "model1 =ols.fit()\n",
    "print(model1.summary())"
   ]
  },
  {
   "cell_type": "code",
   "execution_count": 13,
   "id": "4bd0779d",
   "metadata": {},
   "outputs": [
    {
     "name": "stdout",
     "output_type": "stream",
     "text": [
      "                            OLS Regression Results                            \n",
      "==============================================================================\n",
      "Dep. Variable:             CamrySales   R-squared:                       0.148\n",
      "Model:                            OLS   Adj. R-squared:                  0.121\n",
      "Method:                 Least Squares   F-statistic:                     5.512\n",
      "Date:                Mon, 30 Jan 2023   Prob (F-statistic):           0.000400\n",
      "Time:                        22:28:32   Log-Likelihood:                -1339.9\n",
      "No. Observations:                 132   AIC:                             2690.\n",
      "Df Residuals:                     127   BIC:                             2704.\n",
      "Df Model:                           4                                         \n",
      "Covariance Type:            nonrobust                                         \n",
      "=================================================================================\n",
      "                    coef    std err          t      P>|t|      [0.025      0.975]\n",
      "---------------------------------------------------------------------------------\n",
      "Intercept      7.253e+04   4.45e+04      1.629      0.106   -1.56e+04    1.61e+05\n",
      "Unemployment  -1786.9979    556.334     -3.212      0.002   -2887.883    -686.113\n",
      "CPIAll         -152.9538    114.133     -1.340      0.183    -378.802      72.894\n",
      "CPIEnergy        73.9288     35.249      2.097      0.038       4.177     143.680\n",
      "MilesTraveled    -0.0377      0.205     -0.184      0.854      -0.443       0.368\n",
      "==============================================================================\n",
      "Omnibus:                       13.836   Durbin-Watson:                   1.368\n",
      "Prob(Omnibus):                  0.001   Jarque-Bera (JB):               20.240\n",
      "Skew:                           0.547   Prob(JB):                     4.03e-05\n",
      "Kurtosis:                       4.575   Cond. No.                     2.06e+07\n",
      "==============================================================================\n",
      "\n",
      "Notes:\n",
      "[1] Standard Errors assume that the covariance matrix of the errors is correctly specified.\n",
      "[2] The condition number is large, 2.06e+07. This might indicate that there are\n",
      "strong multicollinearity or other numerical problems.\n"
     ]
    }
   ],
   "source": [
    "import statsmodels.formula.api as smf\n",
    "\n",
    "ols = smf.ols(formula='CamrySales ~ Unemployment + CPIAll + CPIEnergy + MilesTraveled', \n",
    "                 data=camry_train)\n",
    "model1 =ols.fit()\n",
    "print(model1.summary())"
   ]
  },
  {
   "cell_type": "code",
   "execution_count": 14,
   "id": "2a9520a0",
   "metadata": {},
   "outputs": [
    {
     "name": "stdout",
     "output_type": "stream",
     "text": [
      "                            OLS Regression Results                            \n",
      "==============================================================================\n",
      "Dep. Variable:             CamrySales   R-squared:                       0.096\n",
      "Model:                            OLS   Adj. R-squared:                  0.067\n",
      "Method:                 Least Squares   F-statistic:                     3.367\n",
      "Date:                Mon, 30 Jan 2023   Prob (F-statistic):             0.0118\n",
      "Time:                        22:28:32   Log-Likelihood:                -1343.8\n",
      "No. Observations:                 132   AIC:                             2698.\n",
      "Df Residuals:                     127   BIC:                             2712.\n",
      "Df Model:                           4                                         \n",
      "Covariance Type:            nonrobust                                         \n",
      "=================================================================================\n",
      "                    coef    std err          t      P>|t|      [0.025      0.975]\n",
      "---------------------------------------------------------------------------------\n",
      "Intercept      6979.3620   4.21e+04      0.166      0.869   -7.64e+04    9.03e+04\n",
      "CamryQueries    161.3756    103.918      1.553      0.123     -44.258     367.010\n",
      "CPIAll         -261.5292    131.261     -1.992      0.048    -521.271      -1.788\n",
      "CPIEnergy        90.7766     36.486      2.488      0.014      18.577     162.976\n",
      "MilesTraveled     0.2205      0.190      1.159      0.249      -0.156       0.597\n",
      "==============================================================================\n",
      "Omnibus:                        4.667   Durbin-Watson:                   1.228\n",
      "Prob(Omnibus):                  0.097   Jarque-Bera (JB):                4.586\n",
      "Skew:                           0.283   Prob(JB):                        0.101\n",
      "Kurtosis:                       3.716   Cond. No.                     1.89e+07\n",
      "==============================================================================\n",
      "\n",
      "Notes:\n",
      "[1] Standard Errors assume that the covariance matrix of the errors is correctly specified.\n",
      "[2] The condition number is large, 1.89e+07. This might indicate that there are\n",
      "strong multicollinearity or other numerical problems.\n"
     ]
    }
   ],
   "source": [
    "import statsmodels.formula.api as smf\n",
    "\n",
    "ols = smf.ols(formula='CamrySales ~ CamryQueries + CPIAll + CPIEnergy + MilesTraveled', \n",
    "                 data=camry_train)\n",
    "model1 =ols.fit()\n",
    "print(model1.summary())"
   ]
  },
  {
   "cell_type": "code",
   "execution_count": 15,
   "id": "c99f552a",
   "metadata": {},
   "outputs": [
    {
     "name": "stdout",
     "output_type": "stream",
     "text": [
      "                            OLS Regression Results                            \n",
      "==============================================================================\n",
      "Dep. Variable:             CamrySales   R-squared:                       0.148\n",
      "Model:                            OLS   Adj. R-squared:                  0.128\n",
      "Method:                 Least Squares   F-statistic:                     7.394\n",
      "Date:                Mon, 30 Jan 2023   Prob (F-statistic):           0.000131\n",
      "Time:                        22:30:32   Log-Likelihood:                -1339.9\n",
      "No. Observations:                 132   AIC:                             2688.\n",
      "Df Residuals:                     128   BIC:                             2699.\n",
      "Df Model:                           3                                         \n",
      "Covariance Type:            nonrobust                                         \n",
      "================================================================================\n",
      "                   coef    std err          t      P>|t|      [0.025      0.975]\n",
      "--------------------------------------------------------------------------------\n",
      "Intercept     6.516e+04   1.95e+04      3.345      0.001    2.66e+04    1.04e+05\n",
      "Unemployment -1725.5488    443.570     -3.890      0.000   -2603.228    -847.870\n",
      "CPIAll        -168.8642     74.335     -2.272      0.025    -315.948     -21.780\n",
      "CPIEnergy       78.6733     23.976      3.281      0.001      31.232     126.114\n",
      "==============================================================================\n",
      "Omnibus:                       13.602   Durbin-Watson:                   1.363\n",
      "Prob(Omnibus):                  0.001   Jarque-Bera (JB):               19.642\n",
      "Skew:                           0.544   Prob(JB):                     5.43e-05\n",
      "Kurtosis:                       4.545   Cond. No.                     1.14e+04\n",
      "==============================================================================\n",
      "\n",
      "Notes:\n",
      "[1] Standard Errors assume that the covariance matrix of the errors is correctly specified.\n",
      "[2] The condition number is large, 1.14e+04. This might indicate that there are\n",
      "strong multicollinearity or other numerical problems.\n"
     ]
    }
   ],
   "source": [
    "import statsmodels.formula.api as smf\n",
    "\n",
    "ols = smf.ols(formula='CamrySales ~ Unemployment + CPIAll + CPIEnergy', \n",
    "                 data=camry_train)\n",
    "model1 =ols.fit()\n",
    "print(model1.summary())"
   ]
  },
  {
   "cell_type": "code",
   "execution_count": null,
   "id": "1bc07494",
   "metadata": {},
   "outputs": [],
   "source": []
  }
 ],
 "metadata": {
  "kernelspec": {
   "display_name": "Python 3",
   "language": "python",
   "name": "python3"
  },
  "language_info": {
   "codemirror_mode": {
    "name": "ipython",
    "version": 3
   },
   "file_extension": ".py",
   "mimetype": "text/x-python",
   "name": "python",
   "nbconvert_exporter": "python",
   "pygments_lexer": "ipython3",
   "version": "3.8.8"
  }
 },
 "nbformat": 4,
 "nbformat_minor": 5
}
